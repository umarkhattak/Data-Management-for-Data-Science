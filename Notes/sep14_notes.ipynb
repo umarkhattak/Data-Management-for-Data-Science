{
 "cells": [
  {
   "cell_type": "markdown",
   "metadata": {},
   "source": [
    "### Reading input from console, try-except to trap errors, command line arguments to python program, repetition with while"
   ]
  },
  {
   "cell_type": "markdown",
   "metadata": {},
   "source": [
    "---"
   ]
  },
  {
   "cell_type": "markdown",
   "metadata": {},
   "source": [
    "#### Reading input"
   ]
  },
  {
   "cell_type": "code",
   "execution_count": 3,
   "metadata": {},
   "outputs": [],
   "source": [
    "def tempconvert():\n",
    "    dir = input(\"Enter 'f2c' or 'c2f': \")\n",
    "    if dir == 'f2c':\n",
    "        f = float(input('enter F: '))  # convert text (string) input to numeric float\n",
    "        c = (f - 32) / 9 * 5\n",
    "        return c\n",
    "    else:\n",
    "        c = float(input('enter C: '))\n",
    "        f = c * 9 / 5 + 32\n",
    "        return f"
   ]
  },
  {
   "cell_type": "code",
   "execution_count": 5,
   "metadata": {},
   "outputs": [
    {
     "name": "stdin",
     "output_type": "stream",
     "text": [
      "Enter 'f2c' or 'c2f':  c2f\n",
      "enter C:  25\n"
     ]
    },
    {
     "data": {
      "text/plain": [
       "77.0"
      ]
     },
     "execution_count": 5,
     "metadata": {},
     "output_type": "execute_result"
    }
   ],
   "source": [
    "tempconvert()"
   ]
  },
  {
   "cell_type": "code",
   "execution_count": 8,
   "metadata": {},
   "outputs": [
    {
     "name": "stdin",
     "output_type": "stream",
     "text": [
      "Enter 'f2c' or 'c2f':  c2f\n",
      "enter C:  25.xy\n"
     ]
    },
    {
     "name": "stdout",
     "output_type": "stream",
     "text": [
      "could not convert string to float: '25.xy'\n"
     ]
    }
   ],
   "source": [
    "tempconvert()"
   ]
  },
  {
   "cell_type": "markdown",
   "metadata": {},
   "source": [
    "#### Using try-except to trap errors"
   ]
  },
  {
   "cell_type": "code",
   "execution_count": 6,
   "metadata": {},
   "outputs": [],
   "source": [
    "def tempconvert():\n",
    "    dir = input(\"Enter 'f2c' or 'c2f': \")\n",
    "    try:\n",
    "        if dir == 'f2c':\n",
    "            f = float(input('enter F: '))\n",
    "            c = (f - 32) / 9 * 5\n",
    "            return c\n",
    "        else:\n",
    "            c = float(input('enter C: '))\n",
    "            f = c * 9 / 5 + 32\n",
    "            return f\n",
    "    except ValueError as err:\n",
    "        print(err)"
   ]
  },
  {
   "cell_type": "code",
   "execution_count": 7,
   "metadata": {},
   "outputs": [
    {
     "name": "stdin",
     "output_type": "stream",
     "text": [
      "Enter 'f2c' or 'c2f':  c2f\n",
      "enter C:  25.x\n"
     ]
    },
    {
     "name": "stdout",
     "output_type": "stream",
     "text": [
      "could not convert string to float: '25.x'\n"
     ]
    }
   ],
   "source": [
    "tempconvert()"
   ]
  },
  {
   "cell_type": "code",
   "execution_count": 10,
   "metadata": {},
   "outputs": [],
   "source": [
    "# replace with custom error message\n",
    "def tempconvert():\n",
    "    dir = input(\"Enter 'f2c' or 'c2f': \")\n",
    "    try:\n",
    "        if dir == 'f2c':\n",
    "            inp = input('enter F: ')\n",
    "            f = float(inp)\n",
    "            c = (f - 32) / 9 * 5\n",
    "            return c\n",
    "        else:\n",
    "            inp = input('enter C: ')\n",
    "            c = float(inp)\n",
    "            f = c * 9 / 5 + 32\n",
    "            return f\n",
    "    except ValueError:\n",
    "        print(f'Input must be real number, you entered {inp}')"
   ]
  },
  {
   "cell_type": "code",
   "execution_count": 11,
   "metadata": {},
   "outputs": [
    {
     "name": "stdin",
     "output_type": "stream",
     "text": [
      "Enter 'f2c' or 'c2f':  f2c\n",
      "enter F:  x.2\n"
     ]
    },
    {
     "name": "stdout",
     "output_type": "stream",
     "text": [
      "Input must be real number, you entered x.2\n"
     ]
    }
   ],
   "source": [
    "tempconvert()"
   ]
  },
  {
   "cell_type": "code",
   "execution_count": 12,
   "metadata": {},
   "outputs": [
    {
     "name": "stdin",
     "output_type": "stream",
     "text": [
      "Enter 'f2c' or 'c2f':  abc\n",
      "enter C:  22.1\n"
     ]
    },
    {
     "data": {
      "text/plain": [
       "71.78"
      ]
     },
     "execution_count": 12,
     "metadata": {},
     "output_type": "execute_result"
    }
   ],
   "source": [
    "tempconvert()"
   ]
  },
  {
   "cell_type": "code",
   "execution_count": 16,
   "metadata": {},
   "outputs": [],
   "source": [
    "# should only allow 'f2c' and 'c2f'\n",
    "def tempconvert():\n",
    "    dir = input(\"Enter 'f2c' or 'c2f': \")\n",
    "    try:\n",
    "        if dir == 'f2c':\n",
    "            inp = input('enter F: ')\n",
    "            f = float(inp)\n",
    "            c = (f - 32) / 9 * 5\n",
    "            return c\n",
    "        elif dir == 'c2f':\n",
    "            inp = input('enter C: ')\n",
    "            c = float(inp)\n",
    "            f = c * 9 / 5 + 32\n",
    "            return f\n",
    "        else:\n",
    "            print(f'You must pick f2c or c2f, you entered {dir}')\n",
    "    except ValueError:\n",
    "        print(f'Input must be real number, you entered {inp}')"
   ]
  },
  {
   "cell_type": "code",
   "execution_count": 17,
   "metadata": {},
   "outputs": [
    {
     "name": "stdin",
     "output_type": "stream",
     "text": [
      "Enter 'f2c' or 'c2f':  xyz\n"
     ]
    },
    {
     "name": "stdout",
     "output_type": "stream",
     "text": [
      "You must pick f2c or c2f, you entered xyz\n"
     ]
    }
   ],
   "source": [
    "tempconvert()"
   ]
  },
  {
   "cell_type": "code",
   "execution_count": 18,
   "metadata": {},
   "outputs": [],
   "source": [
    "# sometimes it's instructive to see the error message constructed by python\n",
    "def stuff():\n",
    "    try:\n",
    "        val = int(input('Enter an integer: '))\n",
    "    except ValueError as err:\n",
    "        print(err)"
   ]
  },
  {
   "cell_type": "code",
   "execution_count": 19,
   "metadata": {},
   "outputs": [
    {
     "name": "stdin",
     "output_type": "stream",
     "text": [
      "Enter an integer:  12.6\n"
     ]
    },
    {
     "name": "stdout",
     "output_type": "stream",
     "text": [
      "invalid literal for int() with base 10: '12.6'\n"
     ]
    }
   ],
   "source": [
    "stuff()"
   ]
  },
  {
   "cell_type": "markdown",
   "metadata": {},
   "source": [
    "---"
   ]
  },
  {
   "cell_type": "markdown",
   "metadata": {},
   "source": [
    "#### Command line arguments to a Python program<br>\n",
    "**See lecture video, program is in convertargs.py**"
   ]
  },
  {
   "cell_type": "markdown",
   "metadata": {},
   "source": [
    "---"
   ]
  },
  {
   "cell_type": "markdown",
   "metadata": {},
   "source": [
    "#### Repetition with while loop"
   ]
  },
  {
   "cell_type": "code",
   "execution_count": 7,
   "metadata": {},
   "outputs": [],
   "source": [
    "def sum_it(cap):\n",
    "    num=1\n",
    "    sum=0\n",
    "    while num <= cap:\n",
    "        sum += num # same as sum = sum + num\n",
    "        num += 1   # same as num = num + 1\n",
    "    return sum"
   ]
  },
  {
   "cell_type": "code",
   "execution_count": 8,
   "metadata": {},
   "outputs": [
    {
     "name": "stdout",
     "output_type": "stream",
     "text": [
      "sum = 15\n"
     ]
    }
   ],
   "source": [
    "print(f'sum = {sum_it(5)}')"
   ]
  },
  {
   "cell_type": "code",
   "execution_count": 12,
   "metadata": {},
   "outputs": [],
   "source": [
    "def sum_it(cap):\n",
    "    sum=0\n",
    "    while cap > 0:\n",
    "        sum += cap \n",
    "        cap -= 1\n",
    "    return sum"
   ]
  },
  {
   "cell_type": "code",
   "execution_count": 14,
   "metadata": {},
   "outputs": [
    {
     "name": "stdout",
     "output_type": "stream",
     "text": [
      "sum = 15\n"
     ]
    }
   ],
   "source": [
    "print(f'sum = {sum_it(5)}')"
   ]
  },
  {
   "cell_type": "code",
   "execution_count": 17,
   "metadata": {},
   "outputs": [
    {
     "name": "stdout",
     "output_type": "stream",
     "text": [
      "15\n"
     ]
    }
   ],
   "source": [
    "cap=5\n",
    "sum = 0\n",
    "while True:\n",
    "    sum += cap\n",
    "    cap -= 1\n",
    "    if cap == 0:\n",
    "        break\n",
    "print(sum)"
   ]
  },
  {
   "cell_type": "code",
   "execution_count": 22,
   "metadata": {},
   "outputs": [
    {
     "name": "stdin",
     "output_type": "stream",
     "text": [
      "Enter next integer, 0 to stop:  12.x\n"
     ]
    },
    {
     "name": "stdout",
     "output_type": "stream",
     "text": [
      "Input must be an integer\n"
     ]
    },
    {
     "name": "stdin",
     "output_type": "stream",
     "text": [
      "Enter next integer, 0 to stop:  2\n",
      "Enter next integer, 0 to stop:  0\n"
     ]
    },
    {
     "name": "stdout",
     "output_type": "stream",
     "text": [
      "2\n"
     ]
    }
   ],
   "source": [
    "# 'waterfall' problem, read from input until a 'guard' value indicates termination\n",
    "# guard can be any pre-determined value that is not acceptable as a legit input \n",
    "sum = 0\n",
    "while True:\n",
    "    try:\n",
    "        val = int(input('Enter next integer, 0 to stop: '))\n",
    "        if val == 0:\n",
    "            break\n",
    "        sum += val\n",
    "    except ValueError:\n",
    "        print(\"Input must be an integer\")\n",
    "print(sum)"
   ]
  },
  {
   "cell_type": "code",
   "execution_count": 43,
   "metadata": {},
   "outputs": [],
   "source": [
    "# check if number is prime\n",
    "import math\n",
    "\n",
    "def is_prime(num):\n",
    "    if num < 1:\n",
    "        print('Number must be positive integer')\n",
    "        return\n",
    "    if num == 1:\n",
    "        return False\n",
    "    if num == 2:\n",
    "        return True\n",
    "    if num % 2 == 0:\n",
    "        return False\n",
    "    # check odd numbers for divisors\n",
    "    d = 3\n",
    "    while (d <= math.sqrt(num)):\n",
    "        if num % d == 0:\n",
    "            return False\n",
    "        d += 2\n",
    "    return True\n",
    "\n",
    "def try_prime():\n",
    "    while True:\n",
    "        try:\n",
    "            val = int(input('Enter +ve integer, 0 to stop: '))\n",
    "            if val == 0:\n",
    "                break\n",
    "            if val < 1:\n",
    "                print(\"Input must be a +ve integer\")\n",
    "                continue\n",
    "            if is_prime(val) == True:\n",
    "                print(f'{val} is a prime')\n",
    "            else:\n",
    "                print(f'{val} is not a prime')\n",
    "        except ValueError:\n",
    "            print(\"Input must be a +ve integer\")"
   ]
  },
  {
   "cell_type": "code",
   "execution_count": 50,
   "metadata": {},
   "outputs": [
    {
     "name": "stdin",
     "output_type": "stream",
     "text": [
      "Enter +ve integer, 0 to stop:  -1\n"
     ]
    },
    {
     "name": "stdout",
     "output_type": "stream",
     "text": [
      "Input must be a +ve integer\n"
     ]
    },
    {
     "name": "stdin",
     "output_type": "stream",
     "text": [
      "Enter +ve integer, 0 to stop:  12\n"
     ]
    },
    {
     "name": "stdout",
     "output_type": "stream",
     "text": [
      "12 is not a prime\n"
     ]
    },
    {
     "name": "stdin",
     "output_type": "stream",
     "text": [
      "Enter +ve integer, 0 to stop:  49\n"
     ]
    },
    {
     "name": "stdout",
     "output_type": "stream",
     "text": [
      "49 is not a prime\n"
     ]
    },
    {
     "name": "stdin",
     "output_type": "stream",
     "text": [
      "Enter +ve integer, 0 to stop:  47\n"
     ]
    },
    {
     "name": "stdout",
     "output_type": "stream",
     "text": [
      "47 is a prime\n"
     ]
    },
    {
     "name": "stdin",
     "output_type": "stream",
     "text": [
      "Enter +ve integer, 0 to stop:  211\n"
     ]
    },
    {
     "name": "stdout",
     "output_type": "stream",
     "text": [
      "211 is a prime\n"
     ]
    },
    {
     "name": "stdin",
     "output_type": "stream",
     "text": [
      "Enter +ve integer, 0 to stop:  0\n"
     ]
    }
   ],
   "source": [
    "try_prime()"
   ]
  }
 ],
 "metadata": {
  "kernelspec": {
   "display_name": "Python 3",
   "language": "python",
   "name": "python3"
  },
  "language_info": {
   "codemirror_mode": {
    "name": "ipython",
    "version": 3
   },
   "file_extension": ".py",
   "mimetype": "text/x-python",
   "name": "python",
   "nbconvert_exporter": "python",
   "pygments_lexer": "ipython3",
   "version": "3.8.8"
  }
 },
 "nbformat": 4,
 "nbformat_minor": 4
}
