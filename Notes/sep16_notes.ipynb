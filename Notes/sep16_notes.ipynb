{
 "cells": [
  {
   "cell_type": "markdown",
   "metadata": {},
   "source": [
    "### Repetition with for, range function, iterating over string, lists"
   ]
  },
  {
   "cell_type": "markdown",
   "metadata": {},
   "source": [
    "---"
   ]
  },
  {
   "cell_type": "markdown",
   "metadata": {},
   "source": [
    "#### <font color='brown'>Repetition with for, range function</font>"
   ]
  },
  {
   "cell_type": "code",
   "execution_count": 53,
   "metadata": {},
   "outputs": [
    {
     "name": "stdout",
     "output_type": "stream",
     "text": [
      "sum = 15\n"
     ]
    }
   ],
   "source": [
    "sum = 0\n",
    "for r in range(6):  # 0, 1, 2, 3, 4, 5\n",
    "    sum += r\n",
    "print(f'sum = {sum}')"
   ]
  },
  {
   "cell_type": "code",
   "execution_count": 54,
   "metadata": {},
   "outputs": [
    {
     "name": "stdout",
     "output_type": "stream",
     "text": [
      "sum = 20\n"
     ]
    }
   ],
   "source": [
    "sum = 0\n",
    "for r in range(3, 8):  # 3, 4, 5, 6, 7\n",
    "    sum += 4\n",
    "print(f'sum = {sum}')"
   ]
  },
  {
   "cell_type": "code",
   "execution_count": 31,
   "metadata": {},
   "outputs": [
    {
     "name": "stdout",
     "output_type": "stream",
     "text": [
      "sum =  25\n"
     ]
    }
   ],
   "source": [
    "sum = 0\n",
    "for r in range(1, 10, 2):  # 1, 3, 5, 7, 9\n",
    "    sum = sum + r\n",
    "print('sum = ', sum)"
   ]
  },
  {
   "cell_type": "code",
   "execution_count": 55,
   "metadata": {},
   "outputs": [
    {
     "name": "stdout",
     "output_type": "stream",
     "text": [
      "sum = 30\n"
     ]
    }
   ],
   "source": [
    "sum = 0\n",
    "for r in range(8, 3, -1):  # 8, 7, 6, 5, 4\n",
    "    sum += r\n",
    "print(f'sum = {sum}')"
   ]
  },
  {
   "cell_type": "code",
   "execution_count": 29,
   "metadata": {},
   "outputs": [],
   "source": [
    "# nested iteration\n",
    "def lower_triangle(lines=5):\n",
    "    for l in range(1,lines+1):\n",
    "        for stars in range(l):\n",
    "            print('*',end=\"\")\n",
    "        print()"
   ]
  },
  {
   "cell_type": "code",
   "execution_count": 30,
   "metadata": {},
   "outputs": [
    {
     "name": "stdout",
     "output_type": "stream",
     "text": [
      "*\n",
      "**\n",
      "***\n",
      "****\n",
      "*****\n"
     ]
    }
   ],
   "source": [
    "lower_triangle()"
   ]
  },
  {
   "cell_type": "code",
   "execution_count": 31,
   "metadata": {},
   "outputs": [],
   "source": [
    "# nested iteration, string multiplier\n",
    "def lower_triangle(lines=5):\n",
    "    for l in range(1,lines+1):\n",
    "        print('*'*l)"
   ]
  },
  {
   "cell_type": "code",
   "execution_count": 32,
   "metadata": {},
   "outputs": [
    {
     "name": "stdout",
     "output_type": "stream",
     "text": [
      "*\n",
      "**\n",
      "***\n",
      "****\n",
      "*****\n"
     ]
    }
   ],
   "source": [
    "lower_triangle()"
   ]
  },
  {
   "cell_type": "markdown",
   "metadata": {},
   "source": [
    "---"
   ]
  },
  {
   "cell_type": "markdown",
   "metadata": {},
   "source": [
    "#### <font color='brown'>Iterating over characters in a string, membership with \"in\"</font>"
   ]
  },
  {
   "cell_type": "code",
   "execution_count": 84,
   "metadata": {},
   "outputs": [],
   "source": [
    "# count number of vowels and consonants in a string\n",
    "def countVowelsAndConsonants(str):\n",
    "    v_count=0\n",
    "    c_count=0\n",
    "    for ch in str:  # cycles through each character in the string, in is membership operator\n",
    "        if ch.lower() in 'aeiou': # checks for membership in vowel list\n",
    "            v_count += 1\n",
    "        else:\n",
    "            c_count += 1\n",
    "    return v_count, c_count"
   ]
  },
  {
   "cell_type": "code",
   "execution_count": 87,
   "metadata": {},
   "outputs": [
    {
     "name": "stdout",
     "output_type": "stream",
     "text": [
      "#vowels=1, #consonants=5\n"
     ]
    }
   ],
   "source": [
    "vc, cc = countVowelsAndConsonants('string')\n",
    "print(f'#vowels={vc}, #consonants={cc}')"
   ]
  },
  {
   "cell_type": "code",
   "execution_count": 90,
   "metadata": {},
   "outputs": [
    {
     "name": "stdout",
     "output_type": "stream",
     "text": [
      "#vowels=13, #consonants=35\n"
     ]
    }
   ],
   "source": [
    "vc, cc = countVowelsAndConsonants('And the quick brown fox jumped over the lazy dog')\n",
    "print(f'#vowels={vc}, #consonants={cc}')"
   ]
  },
  {
   "cell_type": "markdown",
   "metadata": {},
   "source": [
    "---"
   ]
  },
  {
   "cell_type": "markdown",
   "metadata": {},
   "source": [
    "#### <font color='brown'>Lists</font>"
   ]
  },
  {
   "cell_type": "code",
   "execution_count": 2,
   "metadata": {},
   "outputs": [],
   "source": [
    "# lists\n",
    "\n",
    "listofints = [1, -2, 3]\n",
    "listofreals = [1.2, 3, 6.8, -12]\n",
    "listofstrings = ['cs', 'ee', 'math']\n",
    "mixedlist = [1, 'a', 2.5]"
   ]
  },
  {
   "cell_type": "code",
   "execution_count": 2,
   "metadata": {},
   "outputs": [
    {
     "data": {
      "text/plain": [
       "3"
      ]
     },
     "execution_count": 2,
     "metadata": {},
     "output_type": "execute_result"
    }
   ],
   "source": [
    "len(listofints)"
   ]
  },
  {
   "cell_type": "markdown",
   "metadata": {},
   "source": [
    "**Making a list out of characters in a string, list of lists, aggregation functions**"
   ]
  },
  {
   "cell_type": "code",
   "execution_count": 1,
   "metadata": {},
   "outputs": [
    {
     "name": "stdout",
     "output_type": "stream",
     "text": [
      "['a', 'b', 'c', 'd', 'e']\n"
     ]
    }
   ],
   "source": [
    "strlst = list('abcde')\n",
    "print(strlst)"
   ]
  },
  {
   "cell_type": "code",
   "execution_count": 3,
   "metadata": {},
   "outputs": [
    {
     "data": {
      "text/plain": [
       "[[1, -2, 3], 'abc', 'def']"
      ]
     },
     "execution_count": 3,
     "metadata": {},
     "output_type": "execute_result"
    }
   ],
   "source": [
    "# list of lists\n",
    "[[1,-2,3], 'abc', 'def']"
   ]
  },
  {
   "cell_type": "code",
   "execution_count": 4,
   "metadata": {},
   "outputs": [
    {
     "data": {
      "text/plain": [
       "[[1, -2, 3], 'abc', 'def']"
      ]
     },
     "execution_count": 4,
     "metadata": {},
     "output_type": "execute_result"
    }
   ],
   "source": [
    "[listofints, 'abc', 'def']"
   ]
  },
  {
   "cell_type": "code",
   "execution_count": 5,
   "metadata": {},
   "outputs": [
    {
     "data": {
      "text/plain": [
       "3"
      ]
     },
     "execution_count": 5,
     "metadata": {},
     "output_type": "execute_result"
    }
   ],
   "source": [
    "len([listofints, 'abc', 'def'])"
   ]
  },
  {
   "cell_type": "code",
   "execution_count": 9,
   "metadata": {},
   "outputs": [
    {
     "name": "stdout",
     "output_type": "stream",
     "text": [
      "2\n",
      "3\n"
     ]
    }
   ],
   "source": [
    "print(sum(listofints))\n",
    "print(max(listofints))"
   ]
  },
  {
   "cell_type": "markdown",
   "metadata": {},
   "source": [
    "**Indexing, slicing, striding**"
   ]
  },
  {
   "cell_type": "code",
   "execution_count": 6,
   "metadata": {},
   "outputs": [
    {
     "data": {
      "text/plain": [
       "'cs'"
      ]
     },
     "execution_count": 6,
     "metadata": {},
     "output_type": "execute_result"
    }
   ],
   "source": [
    "# accessing list elements with [index] syntax\n",
    "listofstrings[0]"
   ]
  },
  {
   "cell_type": "code",
   "execution_count": 7,
   "metadata": {},
   "outputs": [
    {
     "data": {
      "text/plain": [
       "-12"
      ]
     },
     "execution_count": 7,
     "metadata": {},
     "output_type": "execute_result"
    }
   ],
   "source": [
    "# index=0 for 1st element, 1 for second, (n-1) for nth\n",
    "listofreals[3]"
   ]
  },
  {
   "cell_type": "code",
   "execution_count": 9,
   "metadata": {},
   "outputs": [
    {
     "name": "stdout",
     "output_type": "stream",
     "text": [
      "nine=9, eight=8\n",
      "[0, 11, 2, 3, 4, 5, 6, 7, 8, 9]\n"
     ]
    }
   ],
   "source": [
    "lst = [0, 1, 2, 3, 4, 5, 6, 7, 8, 9]\n",
    "nine = lst[-1] # negative index starts from the end, -1 is last\n",
    "eight = lst[-2] # -2 is second to last\n",
    "print(f'nine={nine}, eight={eight}')\n",
    "lst[1] = 11\n",
    "print(lst)"
   ]
  },
  {
   "cell_type": "code",
   "execution_count": 11,
   "metadata": {},
   "outputs": [
    {
     "name": "stdout",
     "output_type": "stream",
     "text": [
      "[11, 2, 3]\n"
     ]
    }
   ],
   "source": [
    "# slices of list\n",
    "second_thru_fourth = lst[1:4]  # from index 1 to index 3 -> [11,2,3]\n",
    "print(second_to_fourth)"
   ]
  },
  {
   "cell_type": "code",
   "execution_count": 12,
   "metadata": {},
   "outputs": [
    {
     "name": "stdout",
     "output_type": "stream",
     "text": [
      "[0, 11, 2]\n"
     ]
    }
   ],
   "source": [
    "first_three = lst[:3]  # start index defaults to 0, so 0..2\n",
    "print(first_three)"
   ]
  },
  {
   "cell_type": "code",
   "execution_count": 13,
   "metadata": {},
   "outputs": [
    {
     "name": "stdout",
     "output_type": "stream",
     "text": [
      "[7, 8, 9]\n"
     ]
    }
   ],
   "source": [
    "last_three = lst[-3:]\n",
    "print(last_three)"
   ]
  },
  {
   "cell_type": "code",
   "execution_count": 14,
   "metadata": {},
   "outputs": [
    {
     "name": "stdout",
     "output_type": "stream",
     "text": [
      "[11, 2, 3, 4, 5, 6, 7, 8]\n"
     ]
    }
   ],
   "source": [
    "without_first_and_last = lst[1:-1]\n",
    "print(without_first_and_last)"
   ]
  },
  {
   "cell_type": "code",
   "execution_count": 18,
   "metadata": {},
   "outputs": [
    {
     "name": "stdout",
     "output_type": "stream",
     "text": [
      "[0, 11, 2, 3, 4, 5, 6, 7, 8, 9]\n"
     ]
    }
   ],
   "source": [
    "# the entire list\n",
    "print(lst[:])  # same as print(lst)"
   ]
  },
  {
   "cell_type": "code",
   "execution_count": 12,
   "metadata": {},
   "outputs": [
    {
     "name": "stdout",
     "output_type": "stream",
     "text": [
      "['math', 'stats']\n"
     ]
    }
   ],
   "source": [
    "# extract a sublist\n",
    "listofstrings = ['cs', 'ee', 'math', 'stats', 'psych']\n",
    "sublist = listofstrings[2:4]\n",
    "print(sublist)"
   ]
  },
  {
   "cell_type": "code",
   "execution_count": 19,
   "metadata": {},
   "outputs": [
    {
     "name": "stdout",
     "output_type": "stream",
     "text": [
      "[0, 3, 6, 9]\n"
     ]
    }
   ],
   "source": [
    "# using a stride with a slice\n",
    "every_third = lst[::3]\n",
    "print(every_third)"
   ]
  },
  {
   "cell_type": "code",
   "execution_count": 20,
   "metadata": {},
   "outputs": [
    {
     "name": "stdout",
     "output_type": "stream",
     "text": [
      "[8, 6, 4, 2]\n"
     ]
    }
   ],
   "source": [
    "# stride backward with negative stride value\n",
    "eight_to_two = lst[8:1:-2]   # stops short of 1, so going backward, last index would be 2\n",
    "print(eight_to_two)"
   ]
  },
  {
   "cell_type": "code",
   "execution_count": 2,
   "metadata": {},
   "outputs": [
    {
     "data": {
      "text/plain": [
       "[4, 5, 6]"
      ]
     },
     "execution_count": 2,
     "metadata": {},
     "output_type": "execute_result"
    }
   ],
   "source": [
    "# in a list of lists\n",
    "alst = [1,2,3,[4,5,6],[7,8],10,11]\n",
    "alst[3]"
   ]
  },
  {
   "cell_type": "code",
   "execution_count": 3,
   "metadata": {},
   "outputs": [
    {
     "data": {
      "text/plain": [
       "5"
      ]
     },
     "execution_count": 3,
     "metadata": {},
     "output_type": "execute_result"
    }
   ],
   "source": [
    "alst[3][1]"
   ]
  },
  {
   "cell_type": "code",
   "execution_count": 21,
   "metadata": {},
   "outputs": [
    {
     "data": {
      "text/plain": [
       "True"
      ]
     },
     "execution_count": 21,
     "metadata": {},
     "output_type": "execute_result"
    }
   ],
   "source": [
    "# membership in list\n",
    "6 in lst"
   ]
  },
  {
   "cell_type": "markdown",
   "metadata": {},
   "source": [
    "**methods extend and append, unpacking**"
   ]
  },
  {
   "cell_type": "code",
   "execution_count": 1,
   "metadata": {},
   "outputs": [
    {
     "name": "stdout",
     "output_type": "stream",
     "text": [
      "[1, 2, 3, 4, 5, 6, 7]\n"
     ]
    }
   ],
   "source": [
    "xx = [1,2,3]\n",
    "xx.extend([4,5,6,7])  # concatenate a list to xx\n",
    "print(xx)"
   ]
  },
  {
   "cell_type": "code",
   "execution_count": 2,
   "metadata": {},
   "outputs": [
    {
     "name": "stdout",
     "output_type": "stream",
     "text": [
      "yy = [1, 2, 3, 4, 5, 6, 7]\n",
      "xx = [1, 2, 3]\n"
     ]
    }
   ],
   "source": [
    "xx = [1,2,3]\n",
    "yy = xx + [4,5,6,7]  # produces a new list, xx is unchanged\n",
    "print(f'yy = {yy}')\n",
    "print(f'xx = {xx}')"
   ]
  },
  {
   "cell_type": "code",
   "execution_count": 30,
   "metadata": {},
   "outputs": [
    {
     "name": "stdout",
     "output_type": "stream",
     "text": [
      "[1, 2, 3, 4]\n"
     ]
    }
   ],
   "source": [
    "x = [1,2,3]\n",
    "x.append(4)\n",
    "print(x)"
   ]
  },
  {
   "cell_type": "code",
   "execution_count": 31,
   "metadata": {},
   "outputs": [
    {
     "name": "stdout",
     "output_type": "stream",
     "text": [
      "[1, 2, 3, 4, [4, 5]]\n"
     ]
    },
    {
     "data": {
      "text/plain": [
       "5"
      ]
     },
     "execution_count": 31,
     "metadata": {},
     "output_type": "execute_result"
    }
   ],
   "source": [
    "x.append([4,5])  # append is different from extend!\n",
    "print(x)\n",
    "len(x)"
   ]
  },
  {
   "cell_type": "code",
   "execution_count": 34,
   "metadata": {},
   "outputs": [
    {
     "name": "stdout",
     "output_type": "stream",
     "text": [
      "4 , 6\n"
     ]
    }
   ],
   "source": [
    "a,b = [4,6]   # unpacking a list into 2 variables\n",
    "print(a,',',b)"
   ]
  },
  {
   "cell_type": "code",
   "execution_count": 14,
   "metadata": {},
   "outputs": [
    {
     "name": "stdout",
     "output_type": "stream",
     "text": [
      "6\n"
     ]
    }
   ],
   "source": [
    "# you don't care for the first returned\n",
    "_, b = [4,6]\n",
    "print(b)"
   ]
  },
  {
   "cell_type": "markdown",
   "metadata": {},
   "source": [
    "##### extracting more than one piece using unpacking operator *"
   ]
  },
  {
   "cell_type": "code",
   "execution_count": 33,
   "metadata": {},
   "outputs": [
    {
     "name": "stdout",
     "output_type": "stream",
     "text": [
      "5\n",
      "[4, -3, 6, 1, -7, 3, 8]\n"
     ]
    }
   ],
   "source": [
    "mylst = [5,4,-3,6,1,-7,3,8]\n",
    "first,*rest = mylst\n",
    "print(first)\n",
    "print(rest)"
   ]
  },
  {
   "cell_type": "code",
   "execution_count": 34,
   "metadata": {},
   "outputs": [
    {
     "name": "stdout",
     "output_type": "stream",
     "text": [
      "5\n",
      "[4, -3, 6, 1, -7, 3]\n",
      "8\n"
     ]
    }
   ],
   "source": [
    "first,*rest,last = mylst\n",
    "print(first)\n",
    "print(rest)\n",
    "print(last)"
   ]
  },
  {
   "cell_type": "code",
   "execution_count": 78,
   "metadata": {},
   "outputs": [
    {
     "ename": "ValueError",
     "evalue": "too many values to unpack (expected 2)",
     "output_type": "error",
     "traceback": [
      "\u001b[0;31m---------------------------------------------------------------------------\u001b[0m",
      "\u001b[0;31mValueError\u001b[0m                                Traceback (most recent call last)",
      "\u001b[0;32m<ipython-input-78-91da01f6d249>\u001b[0m in \u001b[0;36m<module>\u001b[0;34m\u001b[0m\n\u001b[1;32m      1\u001b[0m \u001b[0mmylst\u001b[0m \u001b[0;34m=\u001b[0m \u001b[0;34m[\u001b[0m\u001b[0;36m5\u001b[0m\u001b[0;34m,\u001b[0m\u001b[0;36m4\u001b[0m\u001b[0;34m,\u001b[0m\u001b[0;34m-\u001b[0m\u001b[0;36m3\u001b[0m\u001b[0;34m,\u001b[0m\u001b[0;36m6\u001b[0m\u001b[0;34m,\u001b[0m\u001b[0;36m1\u001b[0m\u001b[0;34m,\u001b[0m\u001b[0;34m-\u001b[0m\u001b[0;36m7\u001b[0m\u001b[0;34m,\u001b[0m\u001b[0;36m3\u001b[0m\u001b[0;34m,\u001b[0m\u001b[0;36m8\u001b[0m\u001b[0;34m]\u001b[0m\u001b[0;34m\u001b[0m\u001b[0;34m\u001b[0m\u001b[0m\n\u001b[0;32m----> 2\u001b[0;31m \u001b[0mabc\u001b[0m\u001b[0;34m,\u001b[0m \u001b[0mallelse\u001b[0m \u001b[0;34m=\u001b[0m \u001b[0mmylst\u001b[0m\u001b[0;34m\u001b[0m\u001b[0;34m\u001b[0m\u001b[0m\n\u001b[0m\u001b[1;32m      3\u001b[0m \u001b[0mprint\u001b[0m\u001b[0;34m(\u001b[0m\u001b[0mabc\u001b[0m\u001b[0;34m)\u001b[0m\u001b[0;34m\u001b[0m\u001b[0;34m\u001b[0m\u001b[0m\n\u001b[1;32m      4\u001b[0m \u001b[0mprint\u001b[0m\u001b[0;34m(\u001b[0m\u001b[0mallelse\u001b[0m\u001b[0;34m)\u001b[0m\u001b[0;34m\u001b[0m\u001b[0;34m\u001b[0m\u001b[0m\n",
      "\u001b[0;31mValueError\u001b[0m: too many values to unpack (expected 2)"
     ]
    }
   ],
   "source": [
    "mylst = [5,4,-3,6,1,-7,3,8]\n",
    "abc, allelse = mylst\n",
    "print(abc)\n",
    "print(allelse)"
   ]
  },
  {
   "cell_type": "markdown",
   "metadata": {},
   "source": [
    "**above doesn't work because the LHS unpacking must cover the entire list on RHS**"
   ]
  },
  {
   "cell_type": "markdown",
   "metadata": {},
   "source": [
    "**some other list methods: index, insert, remove, reverse**"
   ]
  },
  {
   "cell_type": "code",
   "execution_count": 4,
   "metadata": {},
   "outputs": [
    {
     "data": {
      "text/plain": [
       "3"
      ]
     },
     "execution_count": 4,
     "metadata": {},
     "output_type": "execute_result"
    }
   ],
   "source": [
    "# count\n",
    "clst = ['a','b','a','c','d','a','b','f']\n",
    "clst.count('a')"
   ]
  },
  {
   "cell_type": "code",
   "execution_count": 6,
   "metadata": {},
   "outputs": [
    {
     "name": "stdout",
     "output_type": "stream",
     "text": [
      "3\n",
      "5\n"
     ]
    }
   ],
   "source": [
    "# find position\n",
    "print(clst.index('c'))\n",
    "print(clst.index('a',3))  # starting at index 3"
   ]
  },
  {
   "cell_type": "code",
   "execution_count": 7,
   "metadata": {},
   "outputs": [
    {
     "data": {
      "text/plain": [
       "['f', 'b', 'a', 'd', 'c', 'a', 'b', 'a']"
      ]
     },
     "execution_count": 7,
     "metadata": {},
     "output_type": "execute_result"
    }
   ],
   "source": [
    "clst[::-1]"
   ]
  },
  {
   "cell_type": "code",
   "execution_count": 9,
   "metadata": {},
   "outputs": [
    {
     "data": {
      "text/plain": [
       "2"
      ]
     },
     "execution_count": 9,
     "metadata": {},
     "output_type": "execute_result"
    }
   ],
   "source": [
    "clst[::-1].index('a')  # finds last occurrence of 'a' in original list"
   ]
  },
  {
   "cell_type": "code",
   "execution_count": 11,
   "metadata": {},
   "outputs": [
    {
     "name": "stdout",
     "output_type": "stream",
     "text": [
      "a is not in list extent\n"
     ]
    }
   ],
   "source": [
    "try:\n",
    "    res = clst.index('a',3,5)  # starting at 3, ending at 4\n",
    "    print('a is in list extent')\n",
    "except:\n",
    "    print('a is not in list extent')"
   ]
  },
  {
   "cell_type": "code",
   "execution_count": 12,
   "metadata": {},
   "outputs": [
    {
     "name": "stdout",
     "output_type": "stream",
     "text": [
      "['a', 'b', 'x', 'a', 'c', 'd', 'a', 'b', 'f']\n"
     ]
    }
   ],
   "source": [
    "# insert\n",
    "clst.insert(2,'x')\n",
    "print(clst)"
   ]
  },
  {
   "cell_type": "code",
   "execution_count": 15,
   "metadata": {},
   "outputs": [
    {
     "name": "stdout",
     "output_type": "stream",
     "text": [
      "removing 'b'\n",
      "list.remove(x): x not in list\n",
      "item not in list\n"
     ]
    }
   ],
   "source": [
    "# remove\n",
    "try:\n",
    "    print(\"removing 'b'\")\n",
    "    clst.remove('b')\n",
    "    print(clst)\n",
    "    print(\"removing 'y'\")\n",
    "    clst.remove('y')\n",
    "    print(clst)\n",
    "except ValueError as err:\n",
    "    print(err)\n",
    "    print('item not in list')"
   ]
  },
  {
   "cell_type": "code",
   "execution_count": 50,
   "metadata": {},
   "outputs": [
    {
     "name": "stdout",
     "output_type": "stream",
     "text": [
      "['a', 'a', 'c', 'd', 'a', 'f']\n"
     ]
    }
   ],
   "source": [
    "# removing all occurrences of 'b' from clst, Version 1\n",
    "clst = ['a','b','a','c','d','a','b','f']\n",
    "for _ in range(clst.count('b')):\n",
    "    clst.remove('b')\n",
    "print(clst)"
   ]
  },
  {
   "cell_type": "code",
   "execution_count": 51,
   "metadata": {},
   "outputs": [
    {
     "name": "stdout",
     "output_type": "stream",
     "text": [
      "['a', 'a', 'c', 'd', 'a', 'f']\n"
     ]
    }
   ],
   "source": [
    "# removing all occurrences of 'b' from clst, Version 2\n",
    "clst = ['a','b','a','c','d','a','b','f']\n",
    "while True:\n",
    "    try:\n",
    "        clst.remove('b')\n",
    "    except:\n",
    "        break\n",
    "print(clst)"
   ]
  },
  {
   "cell_type": "code",
   "execution_count": 52,
   "metadata": {},
   "outputs": [
    {
     "name": "stdout",
     "output_type": "stream",
     "text": [
      "['a', 'a', 'c', 'd', 'a', 'f']\n"
     ]
    }
   ],
   "source": [
    "# removing all occurrences of 'b' from clst, Version 3\n",
    "clst = ['a','b','a','c','d','a','b','f']\n",
    "while 'b' in clst:\n",
    "    clst.remove('b')\n",
    "print(clst)"
   ]
  },
  {
   "cell_type": "code",
   "execution_count": 16,
   "metadata": {},
   "outputs": [
    {
     "name": "stdout",
     "output_type": "stream",
     "text": [
      "['a', 'x', 'a', 'c', 'd', 'a', 'f']\n",
      "['f', 'a', 'd', 'c', 'a', 'x', 'a']\n"
     ]
    }
   ],
   "source": [
    "# reverse\n",
    "print(clst)\n",
    "clst.reverse()\n",
    "print(clst)"
   ]
  }
 ],
 "metadata": {
  "kernelspec": {
   "display_name": "Python 3",
   "language": "python",
   "name": "python3"
  },
  "language_info": {
   "codemirror_mode": {
    "name": "ipython",
    "version": 3
   },
   "file_extension": ".py",
   "mimetype": "text/x-python",
   "name": "python",
   "nbconvert_exporter": "python",
   "pygments_lexer": "ipython3",
   "version": "3.8.8"
  }
 },
 "nbformat": 4,
 "nbformat_minor": 4
}
