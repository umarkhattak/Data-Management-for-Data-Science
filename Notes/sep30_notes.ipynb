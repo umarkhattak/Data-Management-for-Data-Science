{
 "cells": [
  {
   "cell_type": "markdown",
   "metadata": {},
   "source": [
    "### <font color=\"brown\">Regular Expressions Continued</font>"
   ]
  },
  {
   "cell_type": "code",
   "execution_count": 2,
   "metadata": {},
   "outputs": [],
   "source": [
    "import re"
   ]
  },
  {
   "cell_type": "markdown",
   "metadata": {},
   "source": [
    "#### <font color=\"brown\">Special regular expression sequences to match predefined sets of characters</font>\n",
    "1. Whitespace: \\\\s, \\\\S\n",
    "2. Word (alphanumeric, plus underscore) characters: \\\\w, \\\\W\n",
    "3. Digits: \\\\d, \\\\D\n",
    "4. Word Boundary: \\\\b"
   ]
  },
  {
   "cell_type": "markdown",
   "metadata": {},
   "source": [
    "---"
   ]
  },
  {
   "cell_type": "markdown",
   "metadata": {},
   "source": [
    "**Whitespace**\n",
    "- \\\\s : matches any whitespace character (including tab and newline)\n",
    "- \\\\S : matches any non-whitespace character "
   ]
  },
  {
   "cell_type": "code",
   "execution_count": 6,
   "metadata": {},
   "outputs": [
    {
     "name": "stdout",
     "output_type": "stream",
     "text": [
      "None\n"
     ]
    }
   ],
   "source": [
    "res = re.search(r'[.?!]{2,}\\s+','...What the?')  # at least two of .,?,or !, followed by whitespace\n",
    "print(res)"
   ]
  },
  {
   "cell_type": "code",
   "execution_count": 70,
   "metadata": {},
   "outputs": [
    {
     "name": "stdout",
     "output_type": "stream",
     "text": [
      "<re.Match object; span=(0, 5), match='...  '>\n"
     ]
    }
   ],
   "source": [
    "res = re.search(r'[.?!]{2,}\\s+','...  What the?')  # at least two of .,?,or !, followed by whitespace\n",
    "print(res)"
   ]
  },
  {
   "cell_type": "code",
   "execution_count": 69,
   "metadata": {},
   "outputs": [
    {
     "name": "stdout",
     "output_type": "stream",
     "text": [
      "<re.Match object; span=(0, 5), match='...  '>\n"
     ]
    }
   ],
   "source": [
    "res = re.search(r'[.?!]{2,} +','...  What the?')  # at least two of .,?,or !, followed by whitespace\n",
    "print(res)"
   ]
  },
  {
   "cell_type": "code",
   "execution_count": 7,
   "metadata": {},
   "outputs": [
    {
     "name": "stdout",
     "output_type": "stream",
     "text": [
      "<re.Match object; span=(0, 4), match='... '>\n"
     ]
    }
   ],
   "source": [
    "# can use [] class for whitespace\n",
    "res = re.search(r'[.?!]{2,}[ \\t\\n]+','... What the?')  # at least two of .,?,or !, followed by whitespace\n",
    "print(res)"
   ]
  },
  {
   "cell_type": "code",
   "execution_count": 24,
   "metadata": {},
   "outputs": [
    {
     "name": "stdout",
     "output_type": "stream",
     "text": [
      "<re.Match object; span=(8, 12), match='?!! '>\n"
     ]
    }
   ],
   "source": [
    "res = re.search(r'[.?!]{2,}\\s+','What the?!! Next...')  # at least two of .,?,or !, followed by whitespace\n",
    "print(res)"
   ]
  },
  {
   "cell_type": "code",
   "execution_count": 5,
   "metadata": {},
   "outputs": [
    {
     "name": "stdout",
     "output_type": "stream",
     "text": [
      "<re.Match object; span=(4, 10), match='quick '>\n"
     ]
    }
   ],
   "source": [
    "# want at least 4 non-whitespace characters followed by at least one whitespace\n",
    "res = re.search(r'\\S{4,}\\s+','The quick brown fox...')\n",
    "print(res)"
   ]
  },
  {
   "cell_type": "markdown",
   "metadata": {},
   "source": [
    "---"
   ]
  },
  {
   "cell_type": "markdown",
   "metadata": {},
   "source": [
    "**\"Word\": characters (alphanumeric)**\n",
    "\n",
    "- \\\\w : matches any alphanumeric character => [a-zA-Z0-9_]  (includes underscore)\n",
    "- \\\\W : matches any non-alphanumeric character => [^a-zA-Z0-9_]  "
   ]
  },
  {
   "cell_type": "code",
   "execution_count": 8,
   "metadata": {},
   "outputs": [
    {
     "name": "stdout",
     "output_type": "stream",
     "text": [
      "None\n"
     ]
    }
   ],
   "source": [
    "# want at least 4 word characters followed by at least one whitespace\n",
    "res = re.search(r'\\w{4,}\\s+',\"Hey! What's up?\")\n",
    "print(res)"
   ]
  },
  {
   "cell_type": "code",
   "execution_count": 9,
   "metadata": {},
   "outputs": [
    {
     "name": "stdout",
     "output_type": "stream",
     "text": [
      "<re.Match object; span=(15, 20), match='with '>\n"
     ]
    }
   ],
   "source": [
    "# want at least 4 word characters followed by at least one whitespace\n",
    "res = re.search(r'\\w{4,}\\s+',\"Hey! What's up with you?\")\n",
    "print(res)"
   ]
  },
  {
   "cell_type": "markdown",
   "metadata": {},
   "source": [
    "---"
   ]
  },
  {
   "cell_type": "markdown",
   "metadata": {},
   "source": [
    "**Digits**\n",
    "\n",
    "- \\\\d : matches any digit character => [0-9]\n",
    "- \\\\D : matches any non-digit character => [^0-9]"
   ]
  },
  {
   "cell_type": "markdown",
   "metadata": {},
   "source": [
    "#### Exercise:\n",
    "Write a regular expression to determine if a given string is a legit phone number.\n",
    "Here are the legit phone number variations:\n",
    "- ddddddddd\n",
    "- ddd-ddd-dddd\n",
    "- (ddd)ddddddd\n",
    "- (ddd)ddd-dddd"
   ]
  },
  {
   "cell_type": "code",
   "execution_count": 11,
   "metadata": {},
   "outputs": [
    {
     "name": "stdin",
     "output_type": "stream",
     "text": [
      "phone number? ('quit' to stop)  (848)445-2590\n"
     ]
    },
    {
     "name": "stdout",
     "output_type": "stream",
     "text": [
      "match\n"
     ]
    },
    {
     "name": "stdin",
     "output_type": "stream",
     "text": [
      "phone number? ('quit' to stop)  (848)4452590\n"
     ]
    },
    {
     "name": "stdout",
     "output_type": "stream",
     "text": [
      "match\n"
     ]
    },
    {
     "name": "stdin",
     "output_type": "stream",
     "text": [
      "phone number? ('quit' to stop)  8484452590\n"
     ]
    },
    {
     "name": "stdout",
     "output_type": "stream",
     "text": [
      "no match\n"
     ]
    },
    {
     "name": "stdin",
     "output_type": "stream",
     "text": [
      "phone number? ('quit' to stop)  84812\n"
     ]
    },
    {
     "name": "stdout",
     "output_type": "stream",
     "text": [
      "no match\n"
     ]
    },
    {
     "name": "stdin",
     "output_type": "stream",
     "text": [
      "phone number? ('quit' to stop)  quit\n"
     ]
    }
   ],
   "source": [
    "# first, let's handle the last two variants that have ()\n",
    "while True:\n",
    "    astr = input(\"phone number? ('quit' to stop) \")\n",
    "    if astr == 'quit':\n",
    "        break\n",
    "    res = re.search(r'^\\(\\d{3}\\)\\d{3}-?\\d{4}$',astr)  # escape '(' and ')' because they are metachars\n",
    "    print('match') if res else print('no match')"
   ]
  },
  {
   "cell_type": "code",
   "execution_count": 13,
   "metadata": {},
   "outputs": [
    {
     "name": "stdin",
     "output_type": "stream",
     "text": [
      "phone number? ('quit' to stop)    (848)123-4567  \n"
     ]
    },
    {
     "name": "stdout",
     "output_type": "stream",
     "text": [
      "match\n"
     ]
    },
    {
     "name": "stdin",
     "output_type": "stream",
     "text": [
      "phone number? ('quit' to stop)  quit\n"
     ]
    }
   ],
   "source": [
    "# next, let's strengthen the above with the ability to handle leading/trailing whitespaces\n",
    "while True:\n",
    "    astr = input(\"phone number? ('quit' to stop) \")\n",
    "    if astr == 'quit':\n",
    "        break\n",
    "    res = re.search(r'^\\s*\\(\\d{3}\\)\\d{3}-?\\d{4}\\s*$',astr)  \n",
    "    print('match') if res else print('no match')"
   ]
  },
  {
   "cell_type": "markdown",
   "metadata": {},
   "source": [
    "##### For the non ( ) variants, we can't have a single pattern using -? for each of the - positions because it will match even if only one dash is present, and the other is not"
   ]
  },
  {
   "cell_type": "code",
   "execution_count": 14,
   "metadata": {},
   "outputs": [
    {
     "name": "stdout",
     "output_type": "stream",
     "text": [
      "<re.Match object; span=(0, 14), match='  848-445-2790'>\n"
     ]
    }
   ],
   "source": [
    "# so, for instance, it will work for this string\n",
    "res = re.search(r'^\\s*\\d{3}-?\\d{3}-?\\d{4}\\s*$','  848-445-2790')\n",
    "print(res)"
   ]
  },
  {
   "cell_type": "code",
   "execution_count": 15,
   "metadata": {},
   "outputs": [
    {
     "name": "stdout",
     "output_type": "stream",
     "text": [
      "<re.Match object; span=(0, 13), match='  848-4452790'>\n"
     ]
    }
   ],
   "source": [
    "# but also for this string, which is not an acceptable variant\n",
    "res = re.search(r'^\\s*\\d{3}-?\\d{3}-?\\d{4}\\s*$','  848-4452790')\n",
    "print(res)"
   ]
  },
  {
   "cell_type": "markdown",
   "metadata": {},
   "source": [
    "##### So let's do one pattern to catch both dashes"
   ]
  },
  {
   "cell_type": "code",
   "execution_count": 73,
   "metadata": {},
   "outputs": [
    {
     "name": "stdout",
     "output_type": "stream",
     "text": [
      "<re.Match object; span=(0, 17), match='  848-445-2790   '>\n"
     ]
    }
   ],
   "source": [
    "# both dashes\n",
    "print(re.search(r'^\\s*\\d{3}-\\d{3}-\\d{4}\\s*$','  848-445-2790   '))"
   ]
  },
  {
   "cell_type": "markdown",
   "metadata": {},
   "source": [
    "##### And another pattern to catch a straight sequence of 10 digits"
   ]
  },
  {
   "cell_type": "code",
   "execution_count": 74,
   "metadata": {},
   "outputs": [
    {
     "name": "stdout",
     "output_type": "stream",
     "text": [
      "<re.Match object; span=(0, 15), match='  8484452790   '>\n"
     ]
    }
   ],
   "source": [
    "# 10 digits in sequence\n",
    "print(re.search(r'^\\s*\\d{10}\\s*$','  8484452790   '))"
   ]
  },
  {
   "cell_type": "markdown",
   "metadata": {},
   "source": [
    "##### Final solution, single regexp to catch all variants"
   ]
  },
  {
   "cell_type": "code",
   "execution_count": 18,
   "metadata": {},
   "outputs": [
    {
     "name": "stdin",
     "output_type": "stream",
     "text": [
      "phone number? ('quit' to stop)   8484452790 \n"
     ]
    },
    {
     "name": "stdout",
     "output_type": "stream",
     "text": [
      "match\n"
     ]
    },
    {
     "name": "stdin",
     "output_type": "stream",
     "text": [
      "phone number? ('quit' to stop)   848-445-2790 \n"
     ]
    },
    {
     "name": "stdout",
     "output_type": "stream",
     "text": [
      "match\n"
     ]
    },
    {
     "name": "stdin",
     "output_type": "stream",
     "text": [
      "phone number? ('quit' to stop)   (848)445-2790 \n"
     ]
    },
    {
     "name": "stdout",
     "output_type": "stream",
     "text": [
      "match\n"
     ]
    },
    {
     "name": "stdin",
     "output_type": "stream",
     "text": [
      "phone number? ('quit' to stop)   (848)4452790 \n"
     ]
    },
    {
     "name": "stdout",
     "output_type": "stream",
     "text": [
      "match\n"
     ]
    },
    {
     "name": "stdin",
     "output_type": "stream",
     "text": [
      "phone number? ('quit' to stop)   (848)-445-2790 \n"
     ]
    },
    {
     "name": "stdout",
     "output_type": "stream",
     "text": [
      "no match\n"
     ]
    },
    {
     "name": "stdin",
     "output_type": "stream",
     "text": [
      "phone number? ('quit' to stop)  quit\n"
     ]
    }
   ],
   "source": [
    "# next, let's strengthen the above with the ability to handle leading/trailing whitespaces\n",
    "while True:\n",
    "    astr = input(\"phone number? ('quit' to stop) \")\n",
    "    if astr == 'quit':\n",
    "        break\n",
    "    res = re.search(r'\\s*(\\(\\d{3}\\)\\d{3}-?\\d{4}|\\d{3}-\\d{3}-\\d{4}|\\d{10})\\s*$',astr) \n",
    "    print('match') if res else print('no match')"
   ]
  },
  {
   "cell_type": "markdown",
   "metadata": {},
   "source": [
    "---"
   ]
  },
  {
   "cell_type": "markdown",
   "metadata": {},
   "source": [
    "**Word boundary**\n",
    "- \\\\b : matches only at word boundary (doesn't actually match any character, just sets the rule).\n",
    "(Word is a sequence of alphanmeric characters plus underscore.)<br> "
   ]
  },
  {
   "cell_type": "code",
   "execution_count": 19,
   "metadata": {},
   "outputs": [
    {
     "name": "stdout",
     "output_type": "stream",
     "text": [
      "None\n",
      "<re.Match object; span=(17, 21), match='part'>\n"
     ]
    }
   ],
   "source": [
    "# check if a string contains the word 'part'\n",
    "res = re.search(r'\\b[pP]art\\b',\"I'm going to a party tomorrow\")\n",
    "print(res)\n",
    "res = re.search(r'\\b[pP]art\\b',\"This is the best part of the movie.\")\n",
    "print(res)"
   ]
  },
  {
   "cell_type": "code",
   "execution_count": 20,
   "metadata": {},
   "outputs": [
    {
     "name": "stdout",
     "output_type": "stream",
     "text": [
      "None\n"
     ]
    }
   ],
   "source": [
    "res = re.search(r'\\b[eE]pisode\\b',\"Episode3 has a high rating.\") # since word includes digits\n",
    "print(res)"
   ]
  },
  {
   "cell_type": "markdown",
   "metadata": {},
   "source": [
    "---"
   ]
  },
  {
   "cell_type": "markdown",
   "metadata": {},
   "source": [
    "#### <font color=\"brown\">Using the match function</font>\n",
    "#### Matching always starts at beginning of string"
   ]
  },
  {
   "cell_type": "code",
   "execution_count": 7,
   "metadata": {},
   "outputs": [
    {
     "name": "stdout",
     "output_type": "stream",
     "text": [
      "<re.Match object; span=(1, 3), match='ar'>\n",
      "None\n"
     ]
    }
   ],
   "source": [
    "print(re.search('ar','barbaric')) # 'ar' is in 'barbaric'\n",
    "print(re.match('ar','barbaric')) # but 'barbaric' doesn't begin with 'ar'"
   ]
  },
  {
   "cell_type": "code",
   "execution_count": 25,
   "metadata": {},
   "outputs": [
    {
     "name": "stdout",
     "output_type": "stream",
     "text": [
      "<re.Match object; span=(0, 6), match='arrest'>\n",
      "<re.Match object; span=(0, 6), match='arrest'>\n"
     ]
    }
   ],
   "source": [
    "# match all strings that start with ar, end with t, \n",
    "# and have at least one lowercase letter between\n",
    "\n",
    "res = re.search('^ar[a-z]+t$', 'arrest')  # version 1, using search\n",
    "print(res)\n",
    "res = re.match('ar[a-z]+t$', 'arrest')  # version 2, using match   \n",
    "print(res)"
   ]
  },
  {
   "cell_type": "markdown",
   "metadata": {},
   "source": [
    "---"
   ]
  },
  {
   "cell_type": "markdown",
   "metadata": {},
   "source": [
    "#### <font color=\"brown\">Using the Match object returned by search/match</font>\n",
    "**Applying the methods group(), span(), start(), end()**"
   ]
  },
  {
   "cell_type": "code",
   "execution_count": 26,
   "metadata": {},
   "outputs": [
    {
     "name": "stdout",
     "output_type": "stream",
     "text": [
      "at\n",
      "(1, 3)\n",
      "1\n",
      "3\n",
      "1 , 3\n"
     ]
    }
   ],
   "source": [
    "res = re.search('at', 'catch')  # returned Match object is stored in res\n",
    "print(res.group())  # returns the matched result string\n",
    "print(res.span()) # returns the tuple (start,end) indices of matching part of original string\n",
    "print(res.start()) # returns the start index of span\n",
    "print(res.end()) # returns the end index of span\n",
    "start,end = res.span()\n",
    "print(start,',',end)"
   ]
  },
  {
   "cell_type": "code",
   "execution_count": 29,
   "metadata": {},
   "outputs": [
    {
     "name": "stdout",
     "output_type": "stream",
     "text": [
      "<span>\n",
      "(0, 6)\n",
      "0\n",
      "6\n"
     ]
    }
   ],
   "source": [
    "# by definition, match will always return a span that starts at 0 (if a match is found)\n",
    "res = re.match(r'<.*?>','<span>This is within a span tag in html</span>')\n",
    "print(res.group())\n",
    "print(res.span())\n",
    "print(res.start())\n",
    "print(res.end())"
   ]
  },
  {
   "cell_type": "code",
   "execution_count": 30,
   "metadata": {},
   "outputs": [
    {
     "ename": "AttributeError",
     "evalue": "'NoneType' object has no attribute 'group'",
     "output_type": "error",
     "traceback": [
      "\u001b[0;31m---------------------------------------------------------------------------\u001b[0m",
      "\u001b[0;31mAttributeError\u001b[0m                            Traceback (most recent call last)",
      "\u001b[0;32m<ipython-input-30-988e40b4c51a>\u001b[0m in \u001b[0;36m<module>\u001b[0;34m\u001b[0m\n\u001b[1;32m      1\u001b[0m \u001b[0;31m# be careful to check for existence of returned match object before applying methods!\u001b[0m\u001b[0;34m\u001b[0m\u001b[0;34m\u001b[0m\u001b[0;34m\u001b[0m\u001b[0m\n\u001b[1;32m      2\u001b[0m \u001b[0mres\u001b[0m \u001b[0;34m=\u001b[0m \u001b[0mre\u001b[0m\u001b[0;34m.\u001b[0m\u001b[0mmatch\u001b[0m\u001b[0;34m(\u001b[0m\u001b[0;34m'bar'\u001b[0m\u001b[0;34m,\u001b[0m\u001b[0;34m'sandbar'\u001b[0m\u001b[0;34m)\u001b[0m\u001b[0;34m\u001b[0m\u001b[0;34m\u001b[0m\u001b[0m\n\u001b[0;32m----> 3\u001b[0;31m \u001b[0mprint\u001b[0m\u001b[0;34m(\u001b[0m\u001b[0mres\u001b[0m\u001b[0;34m.\u001b[0m\u001b[0mgroup\u001b[0m\u001b[0;34m(\u001b[0m\u001b[0;34m)\u001b[0m\u001b[0;34m)\u001b[0m\u001b[0;34m\u001b[0m\u001b[0;34m\u001b[0m\u001b[0m\n\u001b[0m",
      "\u001b[0;31mAttributeError\u001b[0m: 'NoneType' object has no attribute 'group'"
     ]
    }
   ],
   "source": [
    "# be careful to check for existence of returned match object before applying methods!\n",
    "res = re.match('bar','sandbar')\n",
    "print(res.group())"
   ]
  },
  {
   "cell_type": "code",
   "execution_count": 31,
   "metadata": {},
   "outputs": [
    {
     "name": "stdout",
     "output_type": "stream",
     "text": [
      "No match\n"
     ]
    }
   ],
   "source": [
    "# defend!\n",
    "res = re.match('bar','sandbar')\n",
    "print(res.group()) if res else print('No match')"
   ]
  },
  {
   "cell_type": "markdown",
   "metadata": {},
   "source": [
    "**Typical usage is to store in Match object, check if it exists (not None), and then get matched string with group**"
   ]
  },
  {
   "cell_type": "code",
   "execution_count": 34,
   "metadata": {},
   "outputs": [
    {
     "name": "stdout",
     "output_type": "stream",
     "text": [
      "Match: arasit\n",
      "Match: artist\n",
      "No match\n"
     ]
    }
   ],
   "source": [
    "# find out if a string contains any substring that starts with ar, ends with t, \n",
    "# and has at least one lowercase letter between\n",
    "def substr(astr):\n",
    "    res = re.search('ar[a-z]+t',astr)  \n",
    "    print('Match:',res.group()) if res else print('No match')\n",
    "        \n",
    "substr('parasite')\n",
    "substr('artist')\n",
    "substr('part')"
   ]
  },
  {
   "cell_type": "markdown",
   "metadata": {},
   "source": [
    "---"
   ]
  },
  {
   "cell_type": "markdown",
   "metadata": {},
   "source": [
    "#### <font color=\"brown\">Using findall and finditer functions to get all matches</font>\n",
    "- findall constructs the entire list before returning it\n",
    "- finditer returns one at a time, on demand, in a Match object"
   ]
  },
  {
   "cell_type": "code",
   "execution_count": 32,
   "metadata": {},
   "outputs": [
    {
     "name": "stdout",
     "output_type": "stream",
     "text": [
      "['Some', 'of', 'these', 'words', 'have', 'trailing', 'junk']\n"
     ]
    }
   ],
   "source": [
    "# extracting words\n",
    "res = re.findall(\"[a-zA-Z]+\",'Some of these words have##$ trailing junk')\n",
    "print(res)"
   ]
  },
  {
   "cell_type": "code",
   "execution_count": 39,
   "metadata": {},
   "outputs": [
    {
     "name": "stdout",
     "output_type": "stream",
     "text": [
      "['Some', 'of', 'these', 'words', 'have', 'trailing', 'junk']\n"
     ]
    }
   ],
   "source": [
    "# reject have##$?\n",
    "res = re.findall(r'[a-zA-Z]+\\b','Some of these words have##$ trailing junk')\n",
    "print(res)"
   ]
  },
  {
   "cell_type": "code",
   "execution_count": 41,
   "metadata": {},
   "outputs": [
    {
     "name": "stdout",
     "output_type": "stream",
     "text": [
      "['Some ', 'of ', 'these ', 'words ', 'trailing ']\n"
     ]
    }
   ],
   "source": [
    "# we would have to look for one or more white spaces following each word\n",
    "res = re.findall(r'[a-zA-Z]+\\s+','Some of these words have##$ trailing junk')\n",
    "print(res)"
   ]
  },
  {
   "cell_type": "markdown",
   "metadata": {},
   "source": [
    "**We can eliminate the included trailing whitespace from the extracted strings by grouping, see next section**"
   ]
  },
  {
   "cell_type": "code",
   "execution_count": 35,
   "metadata": {},
   "outputs": [
    {
     "name": "stdout",
     "output_type": "stream",
     "text": [
      "<callable_iterator object at 0x104d6a650>\n",
      "Some @ (0, 4)\n",
      "of @ (5, 7)\n",
      "these @ (8, 13)\n",
      "words @ (14, 19)\n",
      "have @ (20, 24)\n",
      "trailing @ (28, 36)\n",
      "junk @ (37, 41)\n"
     ]
    }
   ],
   "source": [
    "# getting words, one at a time with finditer\n",
    "iterator = re.finditer(\"[a-zA-Z]+\",'Some of these words have##$ trailing junk')\n",
    "print(iterator)\n",
    "for match in iterator:\n",
    "    print(match.group(),'@',match.span())"
   ]
  },
  {
   "cell_type": "markdown",
   "metadata": {},
   "source": [
    "---"
   ]
  },
  {
   "cell_type": "markdown",
   "metadata": {},
   "source": [
    "#### <font color=\"brown\">Grouping/Capturing</font>"
   ]
  },
  {
   "cell_type": "code",
   "execution_count": 63,
   "metadata": {},
   "outputs": [],
   "source": [
    "# want to extract (\"capture\") area code separate from rest of phone number\n",
    "# assume standard format (ddd)ddd-dddd\n",
    "res = re.match(r'\\s*\\((\\d{3})\\)(\\d{3}-\\d{4})', '(848)445-2790')"
   ]
  },
  {
   "cell_type": "markdown",
   "metadata": {},
   "source": [
    "**Notice the grouping/capturing with parentheses around the area code part, as in (\\d{3})\n",
    "and likewise for the entire non-area code part**"
   ]
  },
  {
   "cell_type": "code",
   "execution_count": 64,
   "metadata": {},
   "outputs": [
    {
     "name": "stdout",
     "output_type": "stream",
     "text": [
      "(848)445-2790\n",
      "('848', '445-2790')\n",
      "(848)445-2790\n",
      "848\n",
      "445-2790\n"
     ]
    }
   ],
   "source": [
    "print(res.group())  # for the whole thing\n",
    "print(res.groups()) # for all parts captured with ( )\n",
    "print(res.group(0)) # entire thing\n",
    "print(res.group(1)) # first grouping with ( )\n",
    "print(res.group(2)) # second grouping with ( )"
   ]
  },
  {
   "cell_type": "code",
   "execution_count": 54,
   "metadata": {},
   "outputs": [],
   "source": [
    "# equally, you can use search instead of match, just make sure to use ^ for start of string\n",
    "res = re.search(r'^\\s*\\((\\d{3})\\)(\\d{3}-\\d{4})', '(848)445-2790')"
   ]
  },
  {
   "cell_type": "code",
   "execution_count": 55,
   "metadata": {},
   "outputs": [
    {
     "name": "stdout",
     "output_type": "stream",
     "text": [
      "(848)445-2790\n",
      "('848', '445-2790')\n",
      "(848)445-2790\n",
      "848\n",
      "445-2790\n"
     ]
    }
   ],
   "source": [
    "print(res.group())  # for the whole thing\n",
    "print(res.groups()) # for all parts grouped with ( )\n",
    "print(res.group(0)) # entire thing\n",
    "print(res.group(1)) # first grouping with ( )\n",
    "print(res.group(2)) # second grouping with ( )"
   ]
  },
  {
   "cell_type": "code",
   "execution_count": 60,
   "metadata": {},
   "outputs": [
    {
     "name": "stdout",
     "output_type": "stream",
     "text": [
      "848\n",
      "445-2790\n"
     ]
    }
   ],
   "source": [
    "# alternatively, you can index into the groups() tuple\n",
    "print(res.groups()[0])\n",
    "print(res.groups()[1])"
   ]
  },
  {
   "cell_type": "code",
   "execution_count": 62,
   "metadata": {},
   "outputs": [
    {
     "name": "stdout",
     "output_type": "stream",
     "text": [
      "848\n",
      "445-2790\n"
     ]
    }
   ],
   "source": [
    "# so you can do this\n",
    "res = re.match(r'\\s*\\((\\d{3})\\)(\\d{3}-\\d{4})', '(848)445-2790')\n",
    "if res:\n",
    "    for gr in res.groups():\n",
    "        print(gr)"
   ]
  },
  {
   "cell_type": "markdown",
   "metadata": {},
   "source": [
    "---"
   ]
  },
  {
   "cell_type": "markdown",
   "metadata": {},
   "source": [
    "#### <font color=\"brown\">Pre-compiling a regular expression</font>"
   ]
  },
  {
   "cell_type": "markdown",
   "metadata": {},
   "source": [
    "**Sometimes it's easier to \"compile\" a regular expression and use it several times later**"
   ]
  },
  {
   "cell_type": "code",
   "execution_count": 71,
   "metadata": {},
   "outputs": [
    {
     "name": "stdout",
     "output_type": "stream",
     "text": [
      "('848', '445-2790')\n"
     ]
    }
   ],
   "source": [
    "pattrn = re.compile(r'\\s*\\((\\d{3})\\)(\\d{3}-\\d{4})')\n",
    "res = pattrn.match('(848)445-2790')\n",
    "print(res.groups())"
   ]
  },
  {
   "cell_type": "code",
   "execution_count": 72,
   "metadata": {},
   "outputs": [
    {
     "name": "stdout",
     "output_type": "stream",
     "text": [
      "('25',)\n",
      "('25',)\n",
      "('25',)\n"
     ]
    }
   ],
   "source": [
    "patt = re.compile(r'\\s*#?\\s*(\\d+)')\n",
    "res = patt.match('#25 Infinite Loop,Cupertino,CA 12345')\n",
    "print(res.groups())\n",
    "res = patt.match(' # 25 Infinite Loop,Cupertino,CA 12345')\n",
    "print(res.groups())\n",
    "res = patt.match(' 25 Infinite Loop,Cupertino,CA 12345')\n",
    "print(res.groups())"
   ]
  }
 ],
 "metadata": {
  "kernelspec": {
   "display_name": "Python 3",
   "language": "python",
   "name": "python3"
  },
  "language_info": {
   "codemirror_mode": {
    "name": "ipython",
    "version": 3
   },
   "file_extension": ".py",
   "mimetype": "text/x-python",
   "name": "python",
   "nbconvert_exporter": "python",
   "pygments_lexer": "ipython3",
   "version": "3.8.8"
  }
 },
 "nbformat": 4,
 "nbformat_minor": 4
}
