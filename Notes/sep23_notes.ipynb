{
 "cells": [
  {
   "cell_type": "markdown",
   "metadata": {},
   "source": [
    "#### <font color=\"brown\">Dictionary, Counter, Reading/Writing Files</font>"
   ]
  },
  {
   "cell_type": "markdown",
   "metadata": {},
   "source": [
    "---"
   ]
  },
  {
   "cell_type": "markdown",
   "metadata": {},
   "source": [
    "#### <font color=\"brown\">Dictionary</font>"
   ]
  },
  {
   "cell_type": "code",
   "execution_count": 15,
   "metadata": {},
   "outputs": [
    {
     "name": "stdout",
     "output_type": "stream",
     "text": [
      "80\n"
     ]
    }
   ],
   "source": [
    "empty_dict1 = {}  # conventional\n",
    "empty_dict2 = dict()  # legit, but not often used\n",
    "grades = {'Jenna': 80, 'Dylan': 75, 'Anis': 65}\n",
    "grade = grades['Jenna']\n",
    "print(grade)\n"
   ]
  },
  {
   "cell_type": "code",
   "execution_count": 16,
   "metadata": {},
   "outputs": [
    {
     "ename": "KeyError",
     "evalue": "'Keisha'",
     "output_type": "error",
     "traceback": [
      "\u001b[0;31m---------------------------------------------------------------------------\u001b[0m",
      "\u001b[0;31mKeyError\u001b[0m                                  Traceback (most recent call last)",
      "\u001b[0;32m<ipython-input-16-f5274f5c9064>\u001b[0m in \u001b[0;36m<module>\u001b[0;34m\u001b[0m\n\u001b[0;32m----> 1\u001b[0;31m \u001b[0mgrade\u001b[0m \u001b[0;34m=\u001b[0m \u001b[0mgrades\u001b[0m\u001b[0;34m[\u001b[0m\u001b[0;34m'Keisha'\u001b[0m\u001b[0;34m]\u001b[0m  \u001b[0;31m# key 'Keisha' is not in dictionary\u001b[0m\u001b[0;34m\u001b[0m\u001b[0;34m\u001b[0m\u001b[0m\n\u001b[0m",
      "\u001b[0;31mKeyError\u001b[0m: 'Keisha'"
     ]
    }
   ],
   "source": [
    "grade = grades['Keisha']  # key 'Keisha' is not in dictionary"
   ]
  },
  {
   "cell_type": "code",
   "execution_count": 17,
   "metadata": {},
   "outputs": [
    {
     "name": "stdout",
     "output_type": "stream",
     "text": [
      "Key 'Keisha' is not in grades\n"
     ]
    }
   ],
   "source": [
    "# using ternary operator\n",
    "print(\"Key 'Keisha' is in grades\") if 'Keisha' in grades else print(\"Key 'Keisha' is not in grades\")"
   ]
  },
  {
   "cell_type": "code",
   "execution_count": 18,
   "metadata": {},
   "outputs": [
    {
     "name": "stdout",
     "output_type": "stream",
     "text": [
      "0\n"
     ]
    }
   ],
   "source": [
    "# get method on grades returns the given default value \n",
    "# if key not in dictionary\n",
    "grade = grades.get('Keisha', 0)\n",
    "print(grade)"
   ]
  },
  {
   "cell_type": "code",
   "execution_count": 19,
   "metadata": {},
   "outputs": [],
   "source": [
    "# add a key-value pair to dictionary\n",
    "grades['Keisha'] = 82"
   ]
  },
  {
   "cell_type": "code",
   "execution_count": 20,
   "metadata": {},
   "outputs": [
    {
     "name": "stdout",
     "output_type": "stream",
     "text": [
      "Jenna: 80\n",
      "Dylan: 75\n",
      "Anis: 65\n",
      "Keisha: 82\n"
     ]
    }
   ],
   "source": [
    "for key in grades:\n",
    "    print(f'{key}: {grades[key]}')"
   ]
  },
  {
   "cell_type": "code",
   "execution_count": 22,
   "metadata": {},
   "outputs": [
    {
     "name": "stdout",
     "output_type": "stream",
     "text": [
      "Jenna: 80\n",
      "Dylan: 75\n",
      "Anis: 65\n",
      "Keisha: 82\n"
     ]
    }
   ],
   "source": [
    "for key in grades.keys():  # key in grades is short for key in grades.keys()\n",
    "    print(f'{key}: {grades[key]}')"
   ]
  },
  {
   "cell_type": "code",
   "execution_count": 23,
   "metadata": {},
   "outputs": [
    {
     "name": "stdout",
     "output_type": "stream",
     "text": [
      "dict_keys(['Jenna', 'Dylan', 'Anis', 'Keisha'])\n",
      "dict_values([80, 75, 65, 82])\n",
      "dict_items([('Jenna', 80), ('Dylan', 75), ('Anis', 65), ('Keisha', 82)])\n"
     ]
    }
   ],
   "source": [
    "# get keys, values, items\n",
    "print(grades.keys())\n",
    "print(grades.values())\n",
    "print(grades.items())    "
   ]
  },
  {
   "cell_type": "code",
   "execution_count": 10,
   "metadata": {},
   "outputs": [
    {
     "name": "stdout",
     "output_type": "stream",
     "text": [
      "78\n"
     ]
    }
   ],
   "source": [
    "# keys are unique, so assigning to existing key means changing its value\n",
    "grades['Dylan'] = 78\n",
    "print(grades['Dylan'])"
   ]
  },
  {
   "cell_type": "code",
   "execution_count": 9,
   "metadata": {},
   "outputs": [
    {
     "name": "stdout",
     "output_type": "stream",
     "text": [
      "Jenna : 80\n",
      "Dylan : 75\n",
      "Anis : 65\n",
      "Keisha : 82\n"
     ]
    }
   ],
   "source": [
    "for key, value in grades.items():  # each item is a tuple\n",
    "    print(key,':',value)"
   ]
  },
  {
   "cell_type": "code",
   "execution_count": 4,
   "metadata": {},
   "outputs": [
    {
     "name": "stdout",
     "output_type": "stream",
     "text": [
      "cs111\n",
      "['cs112', 'cs205']\n"
     ]
    }
   ],
   "source": [
    "# key can map to any kind of value, and values could be heterogeneous\n",
    "prereqs = {'cs112': 'cs111', 'cs336':['cs112','cs205']}\n",
    "print(prereqs['cs112'])\n",
    "print(prereqs['cs336'])"
   ]
  },
  {
   "cell_type": "code",
   "execution_count": 7,
   "metadata": {},
   "outputs": [
    {
     "data": {
      "text/plain": [
       "795000"
      ]
     },
     "execution_count": 7,
     "metadata": {},
     "output_type": "execute_result"
    }
   ],
   "source": [
    "# value can even be a dictionary\n",
    "counties = {'nj':{'middlesex':825000,'bergen':900000,'essex':795000},\n",
    "            'ca':{'los angeles':10000000,'san diego':3300000}}\n",
    "counties['nj']['essex']"
   ]
  },
  {
   "cell_type": "code",
   "execution_count": 36,
   "metadata": {},
   "outputs": [
    {
     "data": {
      "text/plain": [
       "{'x': 10, 'y': 10}"
      ]
     },
     "execution_count": 36,
     "metadata": {},
     "output_type": "execute_result"
    }
   ],
   "source": [
    "# list can be used for keys, all set to same value\n",
    "mydict = dict.fromkeys(['x','y'],10)\n",
    "mydict"
   ]
  },
  {
   "cell_type": "code",
   "execution_count": 37,
   "metadata": {},
   "outputs": [
    {
     "data": {
      "text/plain": [
       "{'a': None, 'b': None, 'c': None, 'd': None, 'e': None}"
      ]
     },
     "execution_count": 37,
     "metadata": {},
     "output_type": "execute_result"
    }
   ],
   "source": [
    "# if no value is provided, defaults to None\n",
    "mydict = dict.fromkeys('abcde')\n",
    "mydict"
   ]
  },
  {
   "cell_type": "markdown",
   "metadata": {},
   "source": [
    "**You can initialize dicts out of a list of tuples**"
   ]
  },
  {
   "cell_type": "code",
   "execution_count": 25,
   "metadata": {},
   "outputs": [
    {
     "data": {
      "text/plain": [
       "{'cs111': 800, 'cs112': 500}"
      ]
     },
     "execution_count": 25,
     "metadata": {},
     "output_type": "execute_result"
    }
   ],
   "source": [
    "mydict = dict([('cs111',800),('cs112',500)])\n",
    "mydict"
   ]
  },
  {
   "cell_type": "code",
   "execution_count": 27,
   "metadata": {},
   "outputs": [
    {
     "data": {
      "text/plain": [
       "{'table': 1, 'chair': 3, 'desk': 1}"
      ]
     },
     "execution_count": 27,
     "metadata": {},
     "output_type": "execute_result"
    }
   ],
   "source": [
    "mydict2 = dict([('table',2),('chair',1),('table',1),('chair',3),('desk',1)])\n",
    "mydict2"
   ]
  },
  {
   "cell_type": "markdown",
   "metadata": {},
   "source": [
    "**when a key is encountered again, value is updated**"
   ]
  },
  {
   "cell_type": "markdown",
   "metadata": {},
   "source": [
    "---"
   ]
  },
  {
   "cell_type": "markdown",
   "metadata": {},
   "source": [
    "#### <font color=\"brown\">Default Dictionary</font>"
   ]
  },
  {
   "cell_type": "code",
   "execution_count": 29,
   "metadata": {},
   "outputs": [
    {
     "name": "stdout",
     "output_type": "stream",
     "text": [
      "{4: 2, 5: 3, 9: 3, 7: 3, 6: 2, 2: 1, 1: 1, 10: 1, 8: 1}\n"
     ]
    }
   ],
   "source": [
    "# count frequency of quiz scores \n",
    "quiz_scores = [4,5,9,7,6,4,2,5,7,9,1,10,7,6,9,8,5]\n",
    "scores = {}\n",
    "for qs in quiz_scores:\n",
    "    if qs in scores:\n",
    "        scores[qs] += 1\n",
    "    else:\n",
    "        scores[qs] = 1\n",
    "print(scores)"
   ]
  },
  {
   "cell_type": "code",
   "execution_count": 30,
   "metadata": {},
   "outputs": [
    {
     "name": "stdout",
     "output_type": "stream",
     "text": [
      "defaultdict(<class 'int'>, {4: 2, 5: 3, 9: 3, 7: 3, 6: 2, 2: 1, 1: 1, 10: 1, 8: 1})\n"
     ]
    }
   ],
   "source": [
    "# using default dictionary \n",
    "from collections import defaultdict\n",
    "\n",
    "scores2 = defaultdict(int)  # scores are auto initialized to 0\n",
    "for qs in quiz_scores:\n",
    "      scores2[qs] += 1   \n",
    "print(scores2)"
   ]
  },
  {
   "cell_type": "markdown",
   "metadata": {},
   "source": [
    "**List values are useful in practice**"
   ]
  },
  {
   "cell_type": "code",
   "execution_count": 34,
   "metadata": {},
   "outputs": [
    {
     "data": {
      "text/plain": [
       "defaultdict(list, {'table': [2, 1], 'chair': [1, 3], 'desk': [1]})"
      ]
     },
     "execution_count": 34,
     "metadata": {},
     "output_type": "execute_result"
    }
   ],
   "source": [
    "lst =  [('table',2),('chair',1),('table',1),('chair',3),('desk',1)]\n",
    "mydict3 = defaultdict(list)\n",
    "for k,v in lst:\n",
    "    mydict3[k].append(v)   # default list implies starting list is empty\n",
    "mydict3"
   ]
  },
  {
   "cell_type": "markdown",
   "metadata": {},
   "source": [
    "---"
   ]
  },
  {
   "cell_type": "markdown",
   "metadata": {},
   "source": [
    "#### <font color=\"brown\">Ordered Dictionary</font>"
   ]
  },
  {
   "cell_type": "code",
   "execution_count": 41,
   "metadata": {},
   "outputs": [
    {
     "data": {
      "text/plain": [
       "OrderedDict([('Hill center', 'Busch'),\n",
       "             ('AB', 'College Ave'),\n",
       "             ('Hickman', 'Douglas'),\n",
       "             ('SEC', ['Busch'])])"
      ]
     },
     "execution_count": 41,
     "metadata": {},
     "output_type": "execute_result"
    }
   ],
   "source": [
    "# preserves the order in which keys were added\n",
    "from collections import OrderedDict\n",
    "\n",
    "od = OrderedDict()\n",
    "od['Hill center'] = 'Busch'\n",
    "od['AB'] = 'College Ave'\n",
    "od['Hickman'] = 'Douglas'\n",
    "od['SEC'] = ['Busch']\n",
    "od"
   ]
  },
  {
   "cell_type": "code",
   "execution_count": 42,
   "metadata": {},
   "outputs": [
    {
     "name": "stdout",
     "output_type": "stream",
     "text": [
      "('SEC', ['Busch'])\n",
      "OrderedDict([('Hill center', 'Busch'), ('AB', 'College Ave'), ('Hickman', 'Douglas')])\n"
     ]
    }
   ],
   "source": [
    "print(od.popitem())   # behaves like a stack\n",
    "print(od)"
   ]
  },
  {
   "cell_type": "markdown",
   "metadata": {},
   "source": [
    "---"
   ]
  },
  {
   "cell_type": "markdown",
   "metadata": {},
   "source": [
    "#### <font color=\"brown\">Counter</font>\n",
    "Counter is basically a default dictionary"
   ]
  },
  {
   "cell_type": "code",
   "execution_count": 43,
   "metadata": {},
   "outputs": [
    {
     "data": {
      "text/plain": [
       "Counter({1: 3, 2: 2, 8: 1, 9: 1})"
      ]
     },
     "execution_count": 43,
     "metadata": {},
     "output_type": "execute_result"
    }
   ],
   "source": [
    "from collections import Counter\n",
    "\n",
    "ctr = Counter([1,2,8,2,1,9,1])\n",
    "ctr"
   ]
  },
  {
   "cell_type": "code",
   "execution_count": 44,
   "metadata": {},
   "outputs": [
    {
     "name": "stdout",
     "output_type": "stream",
     "text": [
      "dict_items([(1, 3), (2, 2), (8, 1), (9, 1)])\n",
      "dict_keys([1, 2, 8, 9])\n",
      "dict_values([3, 2, 1, 1])\n"
     ]
    }
   ],
   "source": [
    "print(ctr.items())\n",
    "print(ctr.keys())\n",
    "print(ctr.values())"
   ]
  },
  {
   "cell_type": "code",
   "execution_count": 45,
   "metadata": {},
   "outputs": [
    {
     "data": {
      "text/plain": [
       "dict_items([(1, 4), (2, 2), (8, 1), (9, 1)])"
      ]
     },
     "execution_count": 45,
     "metadata": {},
     "output_type": "execute_result"
    }
   ],
   "source": [
    "ctr.update([1])\n",
    "ctr.items()"
   ]
  },
  {
   "cell_type": "code",
   "execution_count": 46,
   "metadata": {},
   "outputs": [
    {
     "name": "stdout",
     "output_type": "stream",
     "text": [
      "Counter({1: 4, 2: 3, 9: 2, 8: 1})\n"
     ]
    }
   ],
   "source": [
    "ctr.update([2,9])\n",
    "print(ctr)"
   ]
  },
  {
   "cell_type": "code",
   "execution_count": 47,
   "metadata": {},
   "outputs": [
    {
     "data": {
      "text/plain": [
       "Counter({'this': 1, 'that': 1})"
      ]
     },
     "execution_count": 47,
     "metadata": {},
     "output_type": "execute_result"
    }
   ],
   "source": [
    "ctr1 = Counter()\n",
    "ctr1.update(['this','that'])  # initial count is 0\n",
    "ctr1"
   ]
  },
  {
   "cell_type": "code",
   "execution_count": 50,
   "metadata": {},
   "outputs": [
    {
     "data": {
      "text/plain": [
       "Counter({'w': 1,\n",
       "         'h': 1,\n",
       "         'a': 3,\n",
       "         't': 1,\n",
       "         ' ': 4,\n",
       "         'g': 1,\n",
       "         'o': 4,\n",
       "         'e': 2,\n",
       "         's': 2,\n",
       "         'r': 2,\n",
       "         'u': 2,\n",
       "         'n': 2,\n",
       "         'd': 2,\n",
       "         'c': 1,\n",
       "         'm': 1})"
      ]
     },
     "execution_count": 50,
     "metadata": {},
     "output_type": "execute_result"
    }
   ],
   "source": [
    "ctr2 = Counter('what goes around comes around')  # since string is an iterable\n",
    "ctr2"
   ]
  },
  {
   "cell_type": "code",
   "execution_count": 51,
   "metadata": {},
   "outputs": [
    {
     "data": {
      "text/plain": [
       "Counter({'str1': 2, 2: 2, 2.5: 1, 'str2': 1})"
      ]
     },
     "execution_count": 51,
     "metadata": {},
     "output_type": "execute_result"
    }
   ],
   "source": [
    "ctr3 = Counter([\"str1\",2,2.5,2,\"str2\",\"str1\"])\n",
    "ctr3"
   ]
  },
  {
   "cell_type": "markdown",
   "metadata": {},
   "source": [
    "---"
   ]
  },
  {
   "cell_type": "markdown",
   "metadata": {},
   "source": [
    "#### <font color=\"brown\">Reading and Writing Files</font>"
   ]
  },
  {
   "cell_type": "code",
   "execution_count": 55,
   "metadata": {},
   "outputs": [
    {
     "name": "stdout",
     "output_type": "stream",
     "text": [
      "{'Hurt Locker': '2011', 'The Artist': '2012', 'The Shape of Water': '2018', 'The Hurt Locker': '2010', 'Moonlight': '2017', 'Argo': '2013', 'Green Book': '2019', '12 Years a Slave': '2014', 'Spotlight': '2016', 'Birdman': '2015'}\n"
     ]
    }
   ],
   "source": [
    "oscars = {}\n",
    "for line in open(\"oscars.txt\"):   # read one line at a time\n",
    "    movie, year = line.split(':')\n",
    "    oscars[movie.strip()] = year.strip()\n",
    "print(oscars)"
   ]
  },
  {
   "cell_type": "code",
   "execution_count": 56,
   "metadata": {},
   "outputs": [
    {
     "name": "stdout",
     "output_type": "stream",
     "text": [
      "[('The Hurt Locker', '2010'), ('Hurt Locker', '2011'), ('The Artist', '2012'), ('Argo', '2013'), ('12 Years a Slave', '2014'), ('Birdman', '2015'), ('Spotlight', '2016'), ('Moonlight', '2017'), ('The Shape of Water', '2018'), ('Green Book', '2019')]\n"
     ]
    }
   ],
   "source": [
    "# sort on year\n",
    "oscar_years = sorted(oscars.items(),\n",
    "          key=lambda movie: movie[1])\n",
    "print(oscar_years)"
   ]
  },
  {
   "cell_type": "code",
   "execution_count": 60,
   "metadata": {},
   "outputs": [
    {
     "name": "stdout",
     "output_type": "stream",
     "text": [
      "{'Jenna': 80, 'Dylan': 75, 'Anis': 65, 'Keisha': 82}\n"
     ]
    }
   ],
   "source": [
    "print(grades)"
   ]
  },
  {
   "cell_type": "code",
   "execution_count": 62,
   "metadata": {},
   "outputs": [],
   "source": [
    "# write data from grades dictionary into a file\n",
    "scores_file = open(\"scores_file.txt\",\"w\")   # open a file in \"write\" mode\n",
    "for key,value in grades.items():\n",
    "    scores_file.write(key + ':' + str(value) + '\\n')  # call write method on file\n",
    "scores_file.close()"
   ]
  },
  {
   "cell_type": "code",
   "execution_count": 63,
   "metadata": {},
   "outputs": [],
   "source": [
    "# read populations from file into a dictionary\n",
    "# country name is key, population is value\n",
    "# each line of file is <country>|<population>\n",
    "# population may have commas, need to remove\n",
    "\n",
    "def getPopulations(file):\n",
    "    pops = {}\n",
    "    for line in open(file):\n",
    "        country, pop = line.split('|')\n",
    "        population = int(pop.replace(',',''))  # using string replace method\n",
    "        pops[country] = population\n",
    "    return pops"
   ]
  },
  {
   "cell_type": "code",
   "execution_count": 64,
   "metadata": {},
   "outputs": [],
   "source": [
    "populations = getPopulations('population.txt')"
   ]
  },
  {
   "cell_type": "code",
   "execution_count": 65,
   "metadata": {},
   "outputs": [
    {
     "data": {
      "text/plain": [
       "1347350000"
      ]
     },
     "execution_count": 65,
     "metadata": {},
     "output_type": "execute_result"
    }
   ],
   "source": [
    "populations['China']"
   ]
  },
  {
   "cell_type": "code",
   "execution_count": 66,
   "metadata": {},
   "outputs": [
    {
     "data": {
      "text/plain": [
       "26620809"
      ]
     },
     "execution_count": 66,
     "metadata": {},
     "output_type": "execute_result"
    }
   ],
   "source": [
    "populations['Nepal']"
   ]
  },
  {
   "cell_type": "code",
   "execution_count": 67,
   "metadata": {},
   "outputs": [
    {
     "name": "stdout",
     "output_type": "stream",
     "text": [
      "['China', 'India', 'United States', 'Indonesia', 'Brazil', 'Pakistan', 'Nigeria', 'Bangladesh', 'Russia', 'Japan', 'Mexico']\n"
     ]
    }
   ],
   "source": [
    "# list of countries with population over 100 million\n",
    "large_pops = [c for c,p in populations.items() if p > 100000000 ]\n",
    "print(large_pops)"
   ]
  },
  {
   "cell_type": "markdown",
   "metadata": {},
   "source": [
    "**Counting words in a document**"
   ]
  },
  {
   "cell_type": "code",
   "execution_count": 70,
   "metadata": {},
   "outputs": [],
   "source": [
    "word_counts = Counter()\n",
    "for line in open('metamorphosis.txt'):\n",
    "    tokens = line.split()  # separate into non-whitespace sequences\n",
    "    for token in tokens:\n",
    "        word_counts.update([token.lower().strip(',.')])  # strip ',' and '.' from words"
   ]
  },
  {
   "cell_type": "code",
   "execution_count": 71,
   "metadata": {},
   "outputs": [
    {
     "name": "stdout",
     "output_type": "stream",
     "text": [
      "Counter({'he': 10, 'to': 6, 'the': 4, 'that': 4, 'was': 4, 'his': 4, 'a': 3, 'and': 3, 'look': 2, 'at': 2, 'dull': 2, 'feel': 2, 'right': 2, 'have': 2, 'gregor': 1, 'then': 1, 'turned': 1, 'out': 1, 'window': 1, 'weather': 1, 'drops': 1, 'of': 1, 'rain': 1, 'could': 1, 'be': 1, 'heard': 1, 'hitting': 1, 'pane': 1, 'which': 1, 'made': 1, 'him': 1, 'quite': 1, 'sad': 1, 'how': 1, 'about': 1, 'if': 1, 'i': 1, 'sleep': 1, 'little': 1, 'bit': 1, 'longer': 1, 'forget': 1, 'all': 1, 'this': 1, 'nonsense': 1, 'thought': 1, 'but': 1, 'something': 1, 'unable': 1, 'do': 1, 'because': 1, 'used': 1, 'sleeping': 1, 'on': 1, 'in': 1, 'present': 1, 'state': 1, \"couldn't\": 1, 'get': 1, 'into': 1, 'position': 1, 'however': 1, 'hard': 1, 'threw': 1, 'himself': 1, 'onto': 1, 'always': 1, 'rolled': 1, 'back': 1, 'where': 1, 'must': 1, 'tried': 1, 'it': 1, 'hundred': 1, 'times': 1, 'shut': 1, 'eyes': 1, 'so': 1, \"wouldn't\": 1, 'floundering': 1, 'legs': 1, 'only': 1, 'stopped': 1, 'when': 1, 'began': 1, 'mild': 1, 'pain': 1, 'there': 1, 'had': 1, 'never': 1, 'felt': 1, 'before': 1})\n"
     ]
    }
   ],
   "source": [
    "print(word_counts)"
   ]
  },
  {
   "cell_type": "code",
   "execution_count": 79,
   "metadata": {},
   "outputs": [
    {
     "name": "stdout",
     "output_type": "stream",
     "text": [
      "he 10\n",
      "to 6\n",
      "the 4\n",
      "that 4\n",
      "was 4\n"
     ]
    }
   ],
   "source": [
    "# find top 5 most common words\n",
    "for word, count in word_counts.most_common(5):\n",
    "    print(word, count)"
   ]
  }
 ],
 "metadata": {
  "kernelspec": {
   "display_name": "Python 3",
   "language": "python",
   "name": "python3"
  },
  "language_info": {
   "codemirror_mode": {
    "name": "ipython",
    "version": 3
   },
   "file_extension": ".py",
   "mimetype": "text/x-python",
   "name": "python",
   "nbconvert_exporter": "python",
   "pygments_lexer": "ipython3",
   "version": "3.8.8"
  }
 },
 "nbformat": 4,
 "nbformat_minor": 4
}
