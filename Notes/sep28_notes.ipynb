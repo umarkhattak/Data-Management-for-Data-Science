{
 "cells": [
  {
   "cell_type": "markdown",
   "metadata": {},
   "source": [
    "### <font color=\"brown\">Regular Expressions</font>\n",
    "\n",
    "Tutorials can be found at the following sites\n",
    "\n",
    "1. https://www.w3schools.com/python/python_regex.asp\n",
    "2. https://developers.google.com/edu/python/regular-expressions#basic-patterns\n",
    "3. https://docs.python.org/3/howto/regex.html?highlight=regular%20expressions\n",
    "\n",
    "And the site https://regex101.com/ has a regular expression engine you can use to try things out.\n"
   ]
  },
  {
   "cell_type": "markdown",
   "metadata": {},
   "source": [
    "---"
   ]
  },
  {
   "cell_type": "markdown",
   "metadata": {},
   "source": [
    "#### <font color=\"brown\">Import the re module</font>"
   ]
  },
  {
   "cell_type": "code",
   "execution_count": null,
   "metadata": {},
   "outputs": [],
   "source": [
    "import re"
   ]
  },
  {
   "cell_type": "markdown",
   "metadata": {},
   "source": [
    "---"
   ]
  },
  {
   "cell_type": "markdown",
   "metadata": {},
   "source": [
    "#### <font color=\"brown\">Search for a pattern in a string using re.search function</font>"
   ]
  },
  {
   "cell_type": "code",
   "execution_count": 2,
   "metadata": {},
   "outputs": [
    {
     "name": "stdout",
     "output_type": "stream",
     "text": [
      "<re.Match object; span=(1, 2), match='a'>\n"
     ]
    }
   ],
   "source": [
    "res = re.search('a','cat')\n",
    "print(res)\n",
    "# 'cat' has an 'a' in it, starting at index 1, ending at index 1"
   ]
  },
  {
   "cell_type": "code",
   "execution_count": 3,
   "metadata": {},
   "outputs": [
    {
     "name": "stdout",
     "output_type": "stream",
     "text": [
      "None\n"
     ]
    }
   ],
   "source": [
    "res = re.search('a','dog')\n",
    "print(res)"
   ]
  },
  {
   "cell_type": "code",
   "execution_count": 4,
   "metadata": {},
   "outputs": [
    {
     "name": "stdout",
     "output_type": "stream",
     "text": [
      "not matched\n"
     ]
    }
   ],
   "source": [
    "print ('matched') if re.search('a','dog') else print('not matched')"
   ]
  },
  {
   "cell_type": "code",
   "execution_count": 13,
   "metadata": {},
   "outputs": [
    {
     "name": "stdout",
     "output_type": "stream",
     "text": [
      "<re.Match object; span=(1, 3), match='ar'>\n"
     ]
    }
   ],
   "source": [
    "res = re.search('ar','barbaric')  # returns the first occurrence of match\n",
    "print(res)  "
   ]
  },
  {
   "cell_type": "code",
   "execution_count": 27,
   "metadata": {},
   "outputs": [
    {
     "name": "stdout",
     "output_type": "stream",
     "text": [
      "True\n",
      "False\n",
      "True\n"
     ]
    }
   ],
   "source": [
    "# when searching, because failure is possible, use condition\n",
    "def searchit(pattern,astr): \n",
    "    if re.search(pattern,astr):   # same as if re.search(pattern,astr) != None\n",
    "        return True\n",
    "    else:\n",
    "        return False \n",
    "\n",
    "print(searchit('a','cat'))\n",
    "print(searchit('a','dog'))\n",
    "print(searchit('ar','barbaric'))"
   ]
  },
  {
   "cell_type": "markdown",
   "metadata": {},
   "source": [
    "**But matching literal strings is faster with string method**"
   ]
  },
  {
   "cell_type": "code",
   "execution_count": 20,
   "metadata": {},
   "outputs": [
    {
     "name": "stdout",
     "output_type": "stream",
     "text": [
      "True\n",
      "False\n",
      "True\n"
     ]
    }
   ],
   "source": [
    "def findit(astr,litstr):\n",
    "    return astr.find(litstr) != -1\n",
    "    \n",
    "print(findit('cat','a'))\n",
    "print(findit('dog','a'))\n",
    "print(findit('barbaric','ar'))"
   ]
  },
  {
   "cell_type": "markdown",
   "metadata": {},
   "source": [
    "---"
   ]
  },
  {
   "cell_type": "markdown",
   "metadata": {},
   "source": [
    "#### <font color=\"brown\">Writing regexp patterns with metacharacters</font>"
   ]
  },
  {
   "cell_type": "markdown",
   "metadata": {},
   "source": [
    "**Metacharacter [ ] is used for a class of characters<br>\n",
    "Metacharacter * means 0 or more of preceding character/class<br>\n",
    "Metacharacter + means 1 or more of preceding character/class**"
   ]
  },
  {
   "cell_type": "code",
   "execution_count": null,
   "metadata": {},
   "outputs": [],
   "source": [
    "# search for any sequence that starts with a, ends with t,\n",
    "# and has any number of letters or digits (zero included) between\n",
    "while True:\n",
    "    astr = input(\"string? ('quit' to stop) \")\n",
    "    if astr == 'quit':\n",
    "        break\n",
    "    res = re.search('a[a-zA-Z0-9]*t',astr)  # uses metacharacters [] and *\n",
    "    print('match', res) if res else print('no match')"
   ]
  },
  {
   "cell_type": "code",
   "execution_count": 29,
   "metadata": {},
   "outputs": [
    {
     "name": "stdin",
     "output_type": "stream",
     "text": [
      "string? ('quit' to stop)  at\n"
     ]
    },
    {
     "name": "stdout",
     "output_type": "stream",
     "text": [
      "match\n"
     ]
    },
    {
     "name": "stdin",
     "output_type": "stream",
     "text": [
      "string? ('quit' to stop)  art\n"
     ]
    },
    {
     "name": "stdout",
     "output_type": "stream",
     "text": [
      "match\n"
     ]
    },
    {
     "name": "stdin",
     "output_type": "stream",
     "text": [
      "string? ('quit' to stop)  artistic\n"
     ]
    },
    {
     "name": "stdout",
     "output_type": "stream",
     "text": [
      "match\n"
     ]
    },
    {
     "name": "stdin",
     "output_type": "stream",
     "text": [
      "string? ('quit' to stop)  at&t\n"
     ]
    },
    {
     "name": "stdout",
     "output_type": "stream",
     "text": [
      "match\n"
     ]
    },
    {
     "name": "stdin",
     "output_type": "stream",
     "text": [
      "string? ('quit' to stop)  a&tt\n"
     ]
    },
    {
     "name": "stdout",
     "output_type": "stream",
     "text": [
      "no match\n"
     ]
    },
    {
     "name": "stdin",
     "output_type": "stream",
     "text": [
      "string? ('quit' to stop)  armada\n"
     ]
    },
    {
     "name": "stdout",
     "output_type": "stream",
     "text": [
      "no match\n"
     ]
    },
    {
     "name": "stdin",
     "output_type": "stream",
     "text": [
      "string? ('quit' to stop)  quit\n"
     ]
    }
   ],
   "source": [
    "# search for any sequence that starts with a, ends with t,\n",
    "# and has any number of letters or digits (zero included) between\n",
    "while True:\n",
    "    astr = input(\"string? ('quit' to stop) \")\n",
    "    if astr == 'quit':\n",
    "        break\n",
    "    res = re.search('a[a-zA-Z0-9]*t',astr)  # uses metacharacters [] and *\n",
    "    print('match') if res else print('no match')"
   ]
  },
  {
   "cell_type": "code",
   "execution_count": 30,
   "metadata": {},
   "outputs": [
    {
     "name": "stdin",
     "output_type": "stream",
     "text": [
      "string? ('quit' to stop)  at\n"
     ]
    },
    {
     "name": "stdout",
     "output_type": "stream",
     "text": [
      "match\n"
     ]
    },
    {
     "name": "stdin",
     "output_type": "stream",
     "text": [
      "string? ('quit' to stop)  a2t\n"
     ]
    },
    {
     "name": "stdout",
     "output_type": "stream",
     "text": [
      "match\n"
     ]
    },
    {
     "name": "stdin",
     "output_type": "stream",
     "text": [
      "string? ('quit' to stop)  a23Aaatt\n"
     ]
    },
    {
     "name": "stdout",
     "output_type": "stream",
     "text": [
      "match\n"
     ]
    },
    {
     "name": "stdin",
     "output_type": "stream",
     "text": [
      "string? ('quit' to stop)  at&t\n"
     ]
    },
    {
     "name": "stdout",
     "output_type": "stream",
     "text": [
      "match\n"
     ]
    },
    {
     "name": "stdin",
     "output_type": "stream",
     "text": [
      "string? ('quit' to stop)  a&tt\n"
     ]
    },
    {
     "name": "stdout",
     "output_type": "stream",
     "text": [
      "no match\n"
     ]
    },
    {
     "name": "stdin",
     "output_type": "stream",
     "text": [
      "string? ('quit' to stop)  arm\n"
     ]
    },
    {
     "name": "stdout",
     "output_type": "stream",
     "text": [
      "no match\n"
     ]
    },
    {
     "name": "stdin",
     "output_type": "stream",
     "text": [
      "string? ('quit' to stop)  a1B2xyt\n"
     ]
    },
    {
     "name": "stdout",
     "output_type": "stream",
     "text": [
      "match\n"
     ]
    },
    {
     "name": "stdin",
     "output_type": "stream",
     "text": [
      "string? ('quit' to stop)  quit\n"
     ]
    }
   ],
   "source": [
    "# search for any sequence that starts with a, ends with t,\n",
    "# and has any number of letters or digits (zero included) between\n",
    "while True:\n",
    "    astr = input(\"string? ('quit' to stop) \")\n",
    "    if astr == 'quit':\n",
    "        break\n",
    "    res = re.search('a[a-zA-Z0-9]*t',astr)  # uses metacharacters [] and *\n",
    "    print('match') if res else print('no match')"
   ]
  },
  {
   "cell_type": "code",
   "execution_count": 31,
   "metadata": {},
   "outputs": [
    {
     "name": "stdin",
     "output_type": "stream",
     "text": [
      "string? ('quit' to stop)  at\n"
     ]
    },
    {
     "name": "stdout",
     "output_type": "stream",
     "text": [
      "no match\n"
     ]
    },
    {
     "name": "stdin",
     "output_type": "stream",
     "text": [
      "string? ('quit' to stop)  aat\n"
     ]
    },
    {
     "name": "stdout",
     "output_type": "stream",
     "text": [
      "no match\n"
     ]
    },
    {
     "name": "stdin",
     "output_type": "stream",
     "text": [
      "string? ('quit' to stop)  aa1t\n"
     ]
    },
    {
     "name": "stdout",
     "output_type": "stream",
     "text": [
      "match\n"
     ]
    },
    {
     "name": "stdin",
     "output_type": "stream",
     "text": [
      "string? ('quit' to stop)  a1at\n"
     ]
    },
    {
     "name": "stdout",
     "output_type": "stream",
     "text": [
      "no match\n"
     ]
    },
    {
     "name": "stdin",
     "output_type": "stream",
     "text": [
      "string? ('quit' to stop)  art1st\n"
     ]
    },
    {
     "name": "stdout",
     "output_type": "stream",
     "text": [
      "no match\n"
     ]
    },
    {
     "name": "stdin",
     "output_type": "stream",
     "text": [
      "string? ('quit' to stop)  quit\n"
     ]
    }
   ],
   "source": [
    "# search for any sequence that starts with a, ends with t,\n",
    "# and has AT LEAST one letter and one digit between, in that order\n",
    "# i.e. between a and t, all letters must precede all digits\n",
    "while True:\n",
    "    astr = input(\"string? ('quit' to stop) \")\n",
    "    if astr == 'quit':\n",
    "        break\n",
    "    res = re.search('a[a-zA-Z]+[0-9]+t',astr)  # uses metacharacters [] and +\n",
    "    print('match') if res else print('no match')"
   ]
  },
  {
   "cell_type": "markdown",
   "metadata": {},
   "source": [
    "**Metacharacter . matches any character**"
   ]
  },
  {
   "cell_type": "code",
   "execution_count": 22,
   "metadata": {},
   "outputs": [
    {
     "name": "stdin",
     "output_type": "stream",
     "text": [
      "String?  at\n"
     ]
    },
    {
     "name": "stdout",
     "output_type": "stream",
     "text": [
      "match\n"
     ]
    },
    {
     "name": "stdin",
     "output_type": "stream",
     "text": [
      "String?  tart\n"
     ]
    },
    {
     "name": "stdout",
     "output_type": "stream",
     "text": [
      "match\n"
     ]
    },
    {
     "name": "stdin",
     "output_type": "stream",
     "text": [
      "String?  roast\n"
     ]
    },
    {
     "name": "stdout",
     "output_type": "stream",
     "text": [
      "match\n"
     ]
    },
    {
     "name": "stdin",
     "output_type": "stream",
     "text": [
      "String?  rat\n"
     ]
    },
    {
     "name": "stdout",
     "output_type": "stream",
     "text": [
      "match\n"
     ]
    },
    {
     "name": "stdin",
     "output_type": "stream",
     "text": [
      "String?  race\n"
     ]
    },
    {
     "name": "stdout",
     "output_type": "stream",
     "text": [
      "no match\n"
     ]
    },
    {
     "name": "stdin",
     "output_type": "stream",
     "text": [
      "String?  quit\n"
     ]
    }
   ],
   "source": [
    "# search for any sequence that starts with a, ends with t,\n",
    "# and has any character any number of times (including zero) between\n",
    "while True:\n",
    "    astr = input(\"string? ('quit' to stop) \")\n",
    "    if astr == 'quit':\n",
    "        break\n",
    "    res = re.search('a.*t',astr)  # uses metacharacters . and *\n",
    "    print('match') if res else print('no match')"
   ]
  },
  {
   "cell_type": "markdown",
   "metadata": {},
   "source": [
    "**Metacharacter ? matches one or zero occurrence of preceding character**"
   ]
  },
  {
   "cell_type": "code",
   "execution_count": 24,
   "metadata": {},
   "outputs": [
    {
     "name": "stdout",
     "output_type": "stream",
     "text": [
      "<re.Match object; span=(0, 2), match='at'>\n",
      "<re.Match object; span=(0, 3), match='act'>\n",
      "<re.Match object; span=(2, 5), match='act'>\n",
      "None\n"
     ]
    }
   ],
   "source": [
    "res = re.search('ac?t','at')\n",
    "print(res)\n",
    "res = re.search('ac?t','act')\n",
    "print(res)\n",
    "res = re.search('ac?t','tractor')\n",
    "print(res)\n",
    "res = re.search('ac?t','art')\n",
    "print(res)"
   ]
  },
  {
   "cell_type": "markdown",
   "metadata": {},
   "source": [
    "**Metacharacter ^ matches start of string when used outside of a [ ] class<br>\n",
    "Metacharacter $ matches end of string**"
   ]
  },
  {
   "cell_type": "code",
   "execution_count": 25,
   "metadata": {},
   "outputs": [
    {
     "name": "stdin",
     "output_type": "stream",
     "text": [
      "String?  at\n"
     ]
    },
    {
     "name": "stdout",
     "output_type": "stream",
     "text": [
      "no match\n"
     ]
    },
    {
     "name": "stdin",
     "output_type": "stream",
     "text": [
      "String?  art\n"
     ]
    },
    {
     "name": "stdout",
     "output_type": "stream",
     "text": [
      "no match\n"
     ]
    },
    {
     "name": "stdin",
     "output_type": "stream",
     "text": [
      "String?  arrest\n"
     ]
    },
    {
     "name": "stdout",
     "output_type": "stream",
     "text": [
      "match\n"
     ]
    },
    {
     "name": "stdin",
     "output_type": "stream",
     "text": [
      "String?  artist\n"
     ]
    },
    {
     "name": "stdout",
     "output_type": "stream",
     "text": [
      "match\n"
     ]
    },
    {
     "name": "stdin",
     "output_type": "stream",
     "text": [
      "String?  arid\n"
     ]
    },
    {
     "name": "stdout",
     "output_type": "stream",
     "text": [
      "no match\n"
     ]
    },
    {
     "name": "stdin",
     "output_type": "stream",
     "text": [
      "String?  aristocrat\n"
     ]
    },
    {
     "name": "stdout",
     "output_type": "stream",
     "text": [
      "match\n"
     ]
    },
    {
     "name": "stdin",
     "output_type": "stream",
     "text": [
      "String?  arrested\n"
     ]
    },
    {
     "name": "stdout",
     "output_type": "stream",
     "text": [
      "no match\n"
     ]
    },
    {
     "name": "stdin",
     "output_type": "stream",
     "text": [
      "String?  quit\n"
     ]
    }
   ],
   "source": [
    "# match all strings that start with ar, end with t, \n",
    "# and have at least one lowercase letter between\n",
    "while True:\n",
    "    astr = input(\"string? ('quit' to stop) \")\n",
    "    if astr == 'quit':\n",
    "        break\n",
    "    res = re.search('^ar[a-z]+t$',astr)  # uses metacharacters ^, [ ], +, and $\n",
    "    print('match') if res else print('no match')"
   ]
  },
  {
   "cell_type": "markdown",
   "metadata": {},
   "source": [
    "**Metacharacter ^ negates when used as first character inside a class [ ]**"
   ]
  },
  {
   "cell_type": "code",
   "execution_count": 32,
   "metadata": {},
   "outputs": [
    {
     "name": "stdin",
     "output_type": "stream",
     "text": [
      "string? ('quit' to stop)  art\n"
     ]
    },
    {
     "name": "stdout",
     "output_type": "stream",
     "text": [
      "match\n"
     ]
    },
    {
     "name": "stdin",
     "output_type": "stream",
     "text": [
      "string? ('quit' to stop)  artist\n"
     ]
    },
    {
     "name": "stdout",
     "output_type": "stream",
     "text": [
      "match\n"
     ]
    },
    {
     "name": "stdin",
     "output_type": "stream",
     "text": [
      "string? ('quit' to stop)  cart\n"
     ]
    },
    {
     "name": "stdout",
     "output_type": "stream",
     "text": [
      "no match\n"
     ]
    },
    {
     "name": "stdin",
     "output_type": "stream",
     "text": [
      "string? ('quit' to stop)  at\n"
     ]
    },
    {
     "name": "stdout",
     "output_type": "stream",
     "text": [
      "no match\n"
     ]
    },
    {
     "name": "stdin",
     "output_type": "stream",
     "text": [
      "string? ('quit' to stop)  ar1st\n"
     ]
    },
    {
     "name": "stdout",
     "output_type": "stream",
     "text": [
      "no match\n"
     ]
    },
    {
     "name": "stdin",
     "output_type": "stream",
     "text": [
      "string? ('quit' to stop)  quit\n"
     ]
    }
   ],
   "source": [
    "# match all strings that start with ar, end with t, \n",
    "# and do NOT have any digits between\n",
    "while True:\n",
    "    astr = input(\"string? ('quit' to stop) \")\n",
    "    if astr == 'quit':\n",
    "        break\n",
    "    res = re.search('^ar[^0-9]*t$',astr)  # uses metacharacters ^, [ ], *, and $\n",
    "    print('match') if res else print('no match')"
   ]
  },
  {
   "cell_type": "code",
   "execution_count": 70,
   "metadata": {},
   "outputs": [
    {
     "name": "stdout",
     "output_type": "stream",
     "text": [
      "None\n"
     ]
    }
   ],
   "source": [
    "# want string to not have any digits or upper case\n",
    "res = re.search(r'^[^0-9A-Z]*$','abcXyz')   \n",
    "print(res) "
   ]
  },
  {
   "cell_type": "markdown",
   "metadata": {},
   "source": [
    "**Metacharacter | is used for alternative match, usually used with metacharacters ( )**"
   ]
  },
  {
   "cell_type": "code",
   "execution_count": 33,
   "metadata": {},
   "outputs": [
    {
     "name": "stdin",
     "output_type": "stream",
     "text": [
      "string? ('quit' to stop)  aa9t\n"
     ]
    },
    {
     "name": "stdout",
     "output_type": "stream",
     "text": [
      "match\n"
     ]
    },
    {
     "name": "stdin",
     "output_type": "stream",
     "text": [
      "string? ('quit' to stop)  a9at\n"
     ]
    },
    {
     "name": "stdout",
     "output_type": "stream",
     "text": [
      "match\n"
     ]
    },
    {
     "name": "stdin",
     "output_type": "stream",
     "text": [
      "string? ('quit' to stop)  aaat\n"
     ]
    },
    {
     "name": "stdout",
     "output_type": "stream",
     "text": [
      "match\n"
     ]
    },
    {
     "name": "stdin",
     "output_type": "stream",
     "text": [
      "string? ('quit' to stop)  a99t\n"
     ]
    },
    {
     "name": "stdout",
     "output_type": "stream",
     "text": [
      "match\n"
     ]
    },
    {
     "name": "stdin",
     "output_type": "stream",
     "text": [
      "string? ('quit' to stop)  quit\n"
     ]
    }
   ],
   "source": [
    "# search for any sequence that starts with a, ends with t,\n",
    "# and has exactly one letter and exactly one digit between, in EITHER order\n",
    "# first attempt\n",
    "while True:\n",
    "    astr = input(\"string? ('quit' to stop) \")\n",
    "    if astr == 'quit':\n",
    "        break\n",
    "    res = re.search('a[a-zA-Z0-9][a-zA-Z0-9]t',astr)  # uses metacharacters []\n",
    "    print('match') if res else print('no match')"
   ]
  },
  {
   "cell_type": "markdown",
   "metadata": {},
   "source": [
    "**above does not work because you can have consecutive letters, or consecutive digits**"
   ]
  },
  {
   "cell_type": "code",
   "execution_count": 34,
   "metadata": {},
   "outputs": [
    {
     "name": "stdin",
     "output_type": "stream",
     "text": [
      "String?  aa9t\n"
     ]
    },
    {
     "name": "stdout",
     "output_type": "stream",
     "text": [
      "match\n"
     ]
    },
    {
     "name": "stdin",
     "output_type": "stream",
     "text": [
      "String?  a9at\n"
     ]
    },
    {
     "name": "stdout",
     "output_type": "stream",
     "text": [
      "match\n"
     ]
    },
    {
     "name": "stdin",
     "output_type": "stream",
     "text": [
      "String?  aaat\n"
     ]
    },
    {
     "name": "stdout",
     "output_type": "stream",
     "text": [
      "no match\n"
     ]
    },
    {
     "name": "stdin",
     "output_type": "stream",
     "text": [
      "String?  a99t\n"
     ]
    },
    {
     "name": "stdout",
     "output_type": "stream",
     "text": [
      "no match\n"
     ]
    },
    {
     "name": "stdin",
     "output_type": "stream",
     "text": [
      "String?  quit\n"
     ]
    }
   ],
   "source": [
    "# search for any sequence that starts with a, ends with t,\n",
    "# and has exactly one letter and exactly one digit between, in EITHER order\n",
    "# second attempt\n",
    "while True:\n",
    "    astr = input('String? ')\n",
    "    if astr == 'quit':\n",
    "        break\n",
    "    res = re.search('a([a-zA-Z][0-9]|[0-9][a-zA-Z])t',astr)  # uses metacharacters [], (), |\n",
    "    print('match') if res else print('no match')"
   ]
  },
  {
   "cell_type": "code",
   "execution_count": 4,
   "metadata": {},
   "outputs": [
    {
     "name": "stdout",
     "output_type": "stream",
     "text": [
      "None\n",
      "<re.Match object; span=(7, 14), match='airport'>\n",
      "<re.Match object; span=(0, 8), match='airplane'>\n",
      "None\n",
      "<re.Match object; span=(4, 7), match='air'>\n"
     ]
    }
   ],
   "source": [
    "# match any text that has airport or airplane\n",
    "res = re.search('air(port|plane)','the air is cool')\n",
    "print(res)\n",
    "res = re.search('air(port|plane)','newark airport security')\n",
    "print(res)\n",
    "res = re.search('air(port|plane)','airplane')\n",
    "print(res)\n",
    "res = re.search('air(port|plane)','port')\n",
    "print(res)\n",
    "\n",
    "# match any text that has airport or airplane, or air\n",
    "res = re.search('air(port|plane)|air','the air is cool')\n",
    "print(res)"
   ]
  },
  {
   "cell_type": "markdown",
   "metadata": {},
   "source": [
    "**Greedy and non-greedy matching**"
   ]
  },
  {
   "cell_type": "code",
   "execution_count": 35,
   "metadata": {},
   "outputs": [
    {
     "name": "stdout",
     "output_type": "stream",
     "text": [
      "<re.Match object; span=(0, 40), match='<p class=\"para\">This is a paragraph.</p>'>\n"
     ]
    }
   ],
   "source": [
    "# greedy matching\n",
    "# * matches longest possible sequence \n",
    "res = re.search('<.*>', '<p class=\"para\">This is a paragraph.</p>')\n",
    "print(res)"
   ]
  },
  {
   "cell_type": "code",
   "execution_count": 36,
   "metadata": {},
   "outputs": [
    {
     "name": "stdout",
     "output_type": "stream",
     "text": [
      "<re.Match object; span=(0, 16), match='<p class=\"para\">'>\n"
     ]
    }
   ],
   "source": [
    "# non-greedy matching with ?\n",
    "res = re.search('<.*?>', '<p class=\"para\">This is a paragraph.</p>')\n",
    "print(res)"
   ]
  },
  {
   "cell_type": "code",
   "execution_count": 71,
   "metadata": {},
   "outputs": [
    {
     "name": "stdout",
     "output_type": "stream",
     "text": [
      "<re.Match object; span=(0, 16), match='<p class=\"para\">'>\n"
     ]
    }
   ],
   "source": [
    "# or, we can use negation to prevent < or > characters in between\n",
    "print(re.search(r'<[^<>]*>','<p class=\"para\">This is a paragraph.</p>'))"
   ]
  },
  {
   "cell_type": "markdown",
   "metadata": {},
   "source": [
    "<font color=\"red\">Note that the usage of ? following a sequence such as * or +, is different from<br>\n",
    "the usage of ? following a single character (for one or zero occurence of that character)</font>"
   ]
  },
  {
   "cell_type": "markdown",
   "metadata": {},
   "source": [
    "**Metacharacter pair { } used for specific number of instances**"
   ]
  },
  {
   "cell_type": "code",
   "execution_count": 48,
   "metadata": {},
   "outputs": [
    {
     "name": "stdout",
     "output_type": "stream",
     "text": [
      "<re.Match object; span=(0, 3), match='ABC'>\n",
      "<re.Match object; span=(2, 5), match='ABC'>\n",
      "None\n"
     ]
    }
   ],
   "source": [
    "# search for any sequence that has exactly three consecutive uppercase letters \n",
    "print(re.search('[A-Z]{3}','ABC'))\n",
    "print(re.search('[A-Z]{3}','xyABCdef'))\n",
    "print(re.search('[A-Z]{3}','xyABdef'))"
   ]
  },
  {
   "cell_type": "code",
   "execution_count": 49,
   "metadata": {},
   "outputs": [
    {
     "name": "stdout",
     "output_type": "stream",
     "text": [
      "None\n",
      "<re.Match object; span=(0, 2), match='AB'>\n",
      "<re.Match object; span=(2, 5), match='ABC'>\n",
      "<re.Match object; span=(2, 6), match='ABCD'>\n",
      "<re.Match object; span=(2, 6), match='ABCD'>\n"
     ]
    }
   ],
   "source": [
    "# search for any sequence that has between 2 and 4 consecutive uppercase letters \n",
    "print(re.search('[A-Z]{2,4}','A'))\n",
    "print(re.search('[A-Z]{2,4}','AB'))\n",
    "print(re.search('[A-Z]{2,4}','xyABCdef'))\n",
    "print(re.search('[A-Z]{2,4}','xyABCDef'))\n",
    "print(re.search('[A-Z]{2,4}','xyABCDZef'))"
   ]
  },
  {
   "cell_type": "code",
   "execution_count": 50,
   "metadata": {},
   "outputs": [
    {
     "name": "stdout",
     "output_type": "stream",
     "text": [
      "<re.Match object; span=(2, 5), match='CAR'>\n",
      "None\n"
     ]
    }
   ],
   "source": [
    "# search for any sequence that has at least two consecutive uppercase letters \n",
    "print(re.search('[A-Z]{2,}','12CAR34'))\n",
    "print(re.search('[A-Z]{2,}','12C34'))"
   ]
  },
  {
   "cell_type": "code",
   "execution_count": 51,
   "metadata": {},
   "outputs": [
    {
     "name": "stdout",
     "output_type": "stream",
     "text": [
      "<re.Match object; span=(0, 1), match='1'>\n",
      "<re.Match object; span=(0, 2), match='X1'>\n",
      "None\n"
     ]
    }
   ],
   "source": [
    "# search for any string that starts with at most two consecutive uppercase letters, \n",
    "# followed by a digit\n",
    "print(re.search('^[A-Z]{,2}[0-9]','1234'))\n",
    "print(re.search('^[A-Z]{,2}[0-9]','X1234'))\n",
    "print(re.search('^[A-Z]{,2}[0-9]','CAR1234'))"
   ]
  },
  {
   "cell_type": "markdown",
   "metadata": {},
   "source": [
    "**Inside a class [ ], all metacharacters lose their meaning, including ^ if it's not first character**"
   ]
  },
  {
   "cell_type": "code",
   "execution_count": 52,
   "metadata": {},
   "outputs": [
    {
     "name": "stdout",
     "output_type": "stream",
     "text": [
      "<re.Match object; span=(0, 2), match='at'>\n",
      "<re.Match object; span=(0, 4), match='a$.t'>\n",
      "<re.Match object; span=(0, 5), match='a.^^t'>\n",
      "<re.Match object; span=(0, 6), match='a?$..t'>\n",
      "None\n"
     ]
    }
   ],
   "source": [
    "print(re.search('a[$.^?]*t','at'))\n",
    "print(re.search('a[$.^?]*t','a$.t'))\n",
    "print(re.search('a[$.^?]*t','a.^^t'))\n",
    "print(re.search('a[$.^?]*t','a?$..t'))\n",
    "print(re.search('a[$.^?]*t','aBCt'))"
   ]
  },
  {
   "cell_type": "markdown",
   "metadata": {},
   "source": [
    "**To \"defang\" a metacharacter (lose its special meaning), use metacharacter '\\\\' in front of it**"
   ]
  },
  {
   "cell_type": "code",
   "execution_count": 53,
   "metadata": {},
   "outputs": [
    {
     "name": "stdout",
     "output_type": "stream",
     "text": [
      "<re.Match object; span=(0, 2), match='ab'>\n",
      "<re.Match object; span=(0, 3), match='aab'>\n",
      "None\n",
      "<re.Match object; span=(0, 3), match='a+b'>\n",
      "<re.Match object; span=(0, 3), match='a+b'>\n",
      "<re.Match object; span=(0, 4), match='a++b'>\n",
      "None\n"
     ]
    }
   ],
   "source": [
    "print(re.search('a+b','ab'))\n",
    "print(re.search('a+b','aab'))\n",
    "print(re.search('a+b','a+b')) \n",
    "print(re.search('a\\+b','a+b')) # to match + literally\n",
    "print(re.search('a\\++b','a+b')) # to match + literally, one or more times\n",
    "print(re.search('a\\++b','a++b')) \n",
    "print(re.search('a\\++b','a+cb')) # c won't match"
   ]
  },
  {
   "cell_type": "markdown",
   "metadata": {},
   "source": [
    "**Using '\\\\\\\\' to defang the '\\\\' itself**"
   ]
  },
  {
   "cell_type": "code",
   "execution_count": 58,
   "metadata": {},
   "outputs": [
    {
     "name": "stdout",
     "output_type": "stream",
     "text": [
      "None\n"
     ]
    }
   ],
   "source": [
    "# want to match either 'a\\t' or 'at', i.e. one of zero occurence of '\\' between a and t\n",
    "print(re.search('a\\\\?t','at'))  "
   ]
  },
  {
   "cell_type": "markdown",
   "metadata": {},
   "source": [
    "**Above doesn't work because the '\\\\' defangs the following metacharacter ?, which is then taken literally, see below**"
   ]
  },
  {
   "cell_type": "code",
   "execution_count": 56,
   "metadata": {},
   "outputs": [
    {
     "name": "stdout",
     "output_type": "stream",
     "text": [
      "<re.Match object; span=(0, 3), match='a?t'>\n"
     ]
    }
   ],
   "source": [
    "print(re.search('a\\?t','a?t')) "
   ]
  },
  {
   "cell_type": "code",
   "execution_count": 57,
   "metadata": {},
   "outputs": [
    {
     "name": "stdout",
     "output_type": "stream",
     "text": [
      "None\n"
     ]
    }
   ],
   "source": [
    "# how about this?\n",
    "print(re.search('a\\\\?t','at')) # doesn't work either"
   ]
  },
  {
   "cell_type": "markdown",
   "metadata": {},
   "source": [
    "**The reason the above doesn't work is that Python interprets the '\\\\\\\\' as the first '\\\\' escaping the second '\\\\', so it will convert the pattern string to 'a\\\\?t'**"
   ]
  },
  {
   "cell_type": "code",
   "execution_count": 72,
   "metadata": {},
   "outputs": [
    {
     "name": "stdout",
     "output_type": "stream",
     "text": [
      "<re.Match object; span=(0, 2), match='at'>\n"
     ]
    }
   ],
   "source": [
    "# So you will need to do a\\\\\\\\?t to have Python translate it to 'a\\\\?t'\n",
    "# but this is cumbersome\n",
    "print(re.search('a\\\\\\\\?t','at'))"
   ]
  },
  {
   "cell_type": "markdown",
   "metadata": {},
   "source": [
    "**Easy workaround is to tag the pattern as a RAW string, with an 'r' in front of it, so Python leaves it alone and sends it as is to the search function**"
   ]
  },
  {
   "cell_type": "code",
   "execution_count": 75,
   "metadata": {},
   "outputs": [
    {
     "name": "stdout",
     "output_type": "stream",
     "text": [
      "None\n"
     ]
    }
   ],
   "source": [
    "# use r in front of regular expression string\n",
    "print(re.search(r'a\\\\?t','a\\t')) # doesn't work, because \\t is a single character in the target string"
   ]
  },
  {
   "cell_type": "code",
   "execution_count": 74,
   "metadata": {},
   "outputs": [
    {
     "name": "stdout",
     "output_type": "stream",
     "text": [
      "<re.Match object; span=(0, 3), match='a\\\\t'>\n"
     ]
    }
   ],
   "source": [
    "# Use r in front of target string as well\n",
    "print(re.search(r'a\\\\?t',r'a\\t'))"
   ]
  },
  {
   "cell_type": "code",
   "execution_count": 76,
   "metadata": {},
   "outputs": [
    {
     "name": "stdout",
     "output_type": "stream",
     "text": [
      "<re.Match object; span=(0, 3), match='a?t'>\n",
      "None\n"
     ]
    }
   ],
   "source": [
    "# with r in front of regexp string, single '\\' still retains its special meaning\n",
    "print(re.search(r'a\\?t','a?t'))\n",
    "print(re.search(r'a\\?t','a??t'))"
   ]
  },
  {
   "cell_type": "markdown",
   "metadata": {},
   "source": [
    "#### Safest to always use r'...' for the regular expression"
   ]
  }
 ],
 "metadata": {
  "kernelspec": {
   "display_name": "Python 3",
   "language": "python",
   "name": "python3"
  },
  "language_info": {
   "codemirror_mode": {
    "name": "ipython",
    "version": 3
   },
   "file_extension": ".py",
   "mimetype": "text/x-python",
   "name": "python",
   "nbconvert_exporter": "python",
   "pygments_lexer": "ipython3",
   "version": "3.8.8"
  }
 },
 "nbformat": 4,
 "nbformat_minor": 4
}
