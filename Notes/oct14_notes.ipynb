{
 "cells": [
  {
   "cell_type": "markdown",
   "metadata": {},
   "source": [
    "### <font color=\"brown\">JSON, Set, Timing Execution, Random</font>"
   ]
  },
  {
   "cell_type": "markdown",
   "metadata": {},
   "source": [
    "---"
   ]
  },
  {
   "cell_type": "markdown",
   "metadata": {},
   "source": [
    "#### <font color=\"brown\">Working with JSON - Continued</font>"
   ]
  },
  {
   "cell_type": "code",
   "execution_count": 60,
   "metadata": {},
   "outputs": [],
   "source": [
    "import json"
   ]
  },
  {
   "cell_type": "markdown",
   "metadata": {},
   "source": [
    "**Storing JSON to file**"
   ]
  },
  {
   "cell_type": "code",
   "execution_count": 66,
   "metadata": {},
   "outputs": [
    {
     "name": "stdout",
     "output_type": "stream",
     "text": [
      "{'quiz_scores': [{'name': 'Anika', 'scores': [38, 40, 36, 40, 32]}, {'name': 'Amir', 'scores': [36, 38, 40, 30, 34]}]}\n"
     ]
    }
   ],
   "source": [
    "# dump to file\n",
    "json4 = '{\"quiz_scores\" : [{\"name\": \"Anika\", \"scores\":[38,40,36,40,32]}, {\"name\": \"Amir\", \"scores\":[36,38,40,30,34]}]}'\n",
    "dict4 = json.loads(json4)\n",
    "print(dict4)\n",
    "with open (\"quiz_scores.json\",\"w\") as qsfile:\n",
    "    json.dump(dict4, qsfile)"
   ]
  },
  {
   "cell_type": "code",
   "execution_count": 64,
   "metadata": {},
   "outputs": [],
   "source": [
    "# load from file\n",
    "with open(\"quiz_scores.json\") as qsfile:\n",
    "    qs_scores = json.load(qsfile)"
   ]
  },
  {
   "cell_type": "code",
   "execution_count": 65,
   "metadata": {},
   "outputs": [
    {
     "name": "stdout",
     "output_type": "stream",
     "text": [
      "{'quiz_scores': [{'name': 'Anika', 'scores': [38, 40, 36, 40, 32]}, {'name': 'Amir', 'scores': [36, 38, 40, 30, 34]}]}\n"
     ]
    }
   ],
   "source": [
    "print(qs_scores)"
   ]
  },
  {
   "cell_type": "markdown",
   "metadata": {},
   "source": [
    "**JSON with just a string (no dictionary)**"
   ]
  },
  {
   "cell_type": "code",
   "execution_count": 57,
   "metadata": {},
   "outputs": [
    {
     "data": {
      "text/plain": [
       "'JSON - JavaScript Object Notation'"
      ]
     },
     "execution_count": 57,
     "metadata": {},
     "output_type": "execute_result"
    }
   ],
   "source": [
    "# string must be double-quoted\n",
    "jsonstr = json.loads('\"JSON - JavaScript Object Notation\"')\n",
    "jsonstr"
   ]
  },
  {
   "cell_type": "markdown",
   "metadata": {},
   "source": [
    "**JSON with just an array**"
   ]
  },
  {
   "cell_type": "code",
   "execution_count": 59,
   "metadata": {},
   "outputs": [
    {
     "name": "stdout",
     "output_type": "stream",
     "text": [
      "[1, 2, 2, 4]\n",
      "4\n"
     ]
    }
   ],
   "source": [
    "jsonarr = json.loads('[1,2,2,4]')\n",
    "print(jsonarr)\n",
    "print(len(jsonarr))"
   ]
  },
  {
   "cell_type": "markdown",
   "metadata": {},
   "source": [
    "**JSON with just a number**"
   ]
  },
  {
   "cell_type": "code",
   "execution_count": 60,
   "metadata": {},
   "outputs": [
    {
     "name": "stdout",
     "output_type": "stream",
     "text": [
      "<class 'int'>\n",
      "<class 'float'>\n"
     ]
    }
   ],
   "source": [
    "jsonint = json.loads('25')\n",
    "print(type(jsonint))\n",
    "jsonreal = json.loads('25.3')\n",
    "print(type(jsonreal))"
   ]
  },
  {
   "cell_type": "code",
   "execution_count": 61,
   "metadata": {},
   "outputs": [
    {
     "ename": "JSONDecodeError",
     "evalue": "Extra data: line 1 column 3 (char 2)",
     "output_type": "error",
     "traceback": [
      "\u001b[0;31m---------------------------------------------------------------------------\u001b[0m",
      "\u001b[0;31mJSONDecodeError\u001b[0m                           Traceback (most recent call last)",
      "\u001b[0;32m<ipython-input-61-af505b287dc7>\u001b[0m in \u001b[0;36m<module>\u001b[0;34m\u001b[0m\n\u001b[0;32m----> 1\u001b[0;31m \u001b[0mjson\u001b[0m\u001b[0;34m.\u001b[0m\u001b[0mloads\u001b[0m\u001b[0;34m(\u001b[0m\u001b[0;34m'12.x'\u001b[0m\u001b[0;34m)\u001b[0m\u001b[0;34m\u001b[0m\u001b[0;34m\u001b[0m\u001b[0m\n\u001b[0m",
      "\u001b[0;32m~/opt/anaconda3/lib/python3.7/json/__init__.py\u001b[0m in \u001b[0;36mloads\u001b[0;34m(s, encoding, cls, object_hook, parse_float, parse_int, parse_constant, object_pairs_hook, **kw)\u001b[0m\n\u001b[1;32m    346\u001b[0m             \u001b[0mparse_int\u001b[0m \u001b[0;32mis\u001b[0m \u001b[0;32mNone\u001b[0m \u001b[0;32mand\u001b[0m \u001b[0mparse_float\u001b[0m \u001b[0;32mis\u001b[0m \u001b[0;32mNone\u001b[0m \u001b[0;32mand\u001b[0m\u001b[0;34m\u001b[0m\u001b[0;34m\u001b[0m\u001b[0m\n\u001b[1;32m    347\u001b[0m             parse_constant is None and object_pairs_hook is None and not kw):\n\u001b[0;32m--> 348\u001b[0;31m         \u001b[0;32mreturn\u001b[0m \u001b[0m_default_decoder\u001b[0m\u001b[0;34m.\u001b[0m\u001b[0mdecode\u001b[0m\u001b[0;34m(\u001b[0m\u001b[0ms\u001b[0m\u001b[0;34m)\u001b[0m\u001b[0;34m\u001b[0m\u001b[0;34m\u001b[0m\u001b[0m\n\u001b[0m\u001b[1;32m    349\u001b[0m     \u001b[0;32mif\u001b[0m \u001b[0mcls\u001b[0m \u001b[0;32mis\u001b[0m \u001b[0;32mNone\u001b[0m\u001b[0;34m:\u001b[0m\u001b[0;34m\u001b[0m\u001b[0;34m\u001b[0m\u001b[0m\n\u001b[1;32m    350\u001b[0m         \u001b[0mcls\u001b[0m \u001b[0;34m=\u001b[0m \u001b[0mJSONDecoder\u001b[0m\u001b[0;34m\u001b[0m\u001b[0;34m\u001b[0m\u001b[0m\n",
      "\u001b[0;32m~/opt/anaconda3/lib/python3.7/json/decoder.py\u001b[0m in \u001b[0;36mdecode\u001b[0;34m(self, s, _w)\u001b[0m\n\u001b[1;32m    338\u001b[0m         \u001b[0mend\u001b[0m \u001b[0;34m=\u001b[0m \u001b[0m_w\u001b[0m\u001b[0;34m(\u001b[0m\u001b[0ms\u001b[0m\u001b[0;34m,\u001b[0m \u001b[0mend\u001b[0m\u001b[0;34m)\u001b[0m\u001b[0;34m.\u001b[0m\u001b[0mend\u001b[0m\u001b[0;34m(\u001b[0m\u001b[0;34m)\u001b[0m\u001b[0;34m\u001b[0m\u001b[0;34m\u001b[0m\u001b[0m\n\u001b[1;32m    339\u001b[0m         \u001b[0;32mif\u001b[0m \u001b[0mend\u001b[0m \u001b[0;34m!=\u001b[0m \u001b[0mlen\u001b[0m\u001b[0;34m(\u001b[0m\u001b[0ms\u001b[0m\u001b[0;34m)\u001b[0m\u001b[0;34m:\u001b[0m\u001b[0;34m\u001b[0m\u001b[0;34m\u001b[0m\u001b[0m\n\u001b[0;32m--> 340\u001b[0;31m             \u001b[0;32mraise\u001b[0m \u001b[0mJSONDecodeError\u001b[0m\u001b[0;34m(\u001b[0m\u001b[0;34m\"Extra data\"\u001b[0m\u001b[0;34m,\u001b[0m \u001b[0ms\u001b[0m\u001b[0;34m,\u001b[0m \u001b[0mend\u001b[0m\u001b[0;34m)\u001b[0m\u001b[0;34m\u001b[0m\u001b[0;34m\u001b[0m\u001b[0m\n\u001b[0m\u001b[1;32m    341\u001b[0m         \u001b[0;32mreturn\u001b[0m \u001b[0mobj\u001b[0m\u001b[0;34m\u001b[0m\u001b[0;34m\u001b[0m\u001b[0m\n\u001b[1;32m    342\u001b[0m \u001b[0;34m\u001b[0m\u001b[0m\n",
      "\u001b[0;31mJSONDecodeError\u001b[0m: Extra data: line 1 column 3 (char 2)"
     ]
    }
   ],
   "source": [
    "json.loads('12.x')"
   ]
  },
  {
   "cell_type": "code",
   "execution_count": 62,
   "metadata": {},
   "outputs": [
    {
     "data": {
      "text/plain": [
       "'12.x'"
      ]
     },
     "execution_count": 62,
     "metadata": {},
     "output_type": "execute_result"
    }
   ],
   "source": [
    "json.loads('\"12.x\"')"
   ]
  },
  {
   "cell_type": "markdown",
   "metadata": {},
   "source": [
    "**JSON with just a boolean**"
   ]
  },
  {
   "cell_type": "code",
   "execution_count": 63,
   "metadata": {},
   "outputs": [
    {
     "name": "stdout",
     "output_type": "stream",
     "text": [
      "True\n",
      "<class 'bool'>\n"
     ]
    }
   ],
   "source": [
    "jsonbool = json.loads('true')\n",
    "print(jsonbool)\n",
    "print(type(jsonbool))"
   ]
  },
  {
   "cell_type": "markdown",
   "metadata": {},
   "source": [
    "**JSON with a null**"
   ]
  },
  {
   "cell_type": "code",
   "execution_count": 64,
   "metadata": {},
   "outputs": [
    {
     "name": "stdout",
     "output_type": "stream",
     "text": [
      "None\n",
      "<class 'NoneType'>\n"
     ]
    }
   ],
   "source": [
    "jsonnull = json.loads('null')\n",
    "print(jsonnull)\n",
    "print(type(jsonnull))"
   ]
  },
  {
   "cell_type": "markdown",
   "metadata": {},
   "source": [
    "---"
   ]
  },
  {
   "cell_type": "markdown",
   "metadata": {},
   "source": [
    "#### Exercise: ad hoc storage to JSON\n",
    "\n",
    "Suppose scores were in a file *qs_scores.txt*, like this:\n",
    "    \n",
    "Anika Sorenson|38,40,36,40,32<br>\n",
    "Amir Sharif|36,38,40,30,34\n",
    "\n",
    "We want to store this in JSON form so that it is standardized"
   ]
  },
  {
   "cell_type": "code",
   "execution_count": 65,
   "metadata": {},
   "outputs": [
    {
     "name": "stdout",
     "output_type": "stream",
     "text": [
      "{'Anika Sorenson': [38, 40, 36, 40, 32], 'Amir Sharif': [36, 38, 40, 30, 34]}\n"
     ]
    }
   ],
   "source": [
    "# make an input text file, qs-scores.txt\n",
    "qs_dict = {}\n",
    "for line in open('qs_scores.txt'):\n",
    "    flds = line.split('|')\n",
    "    scores = flds[1].split(',')\n",
    "    qs_scores = [int(qs) for qs in scores]\n",
    "    qs_dict[flds[0].strip()] = qs_scores\n",
    "print(qs_dict)"
   ]
  },
  {
   "cell_type": "code",
   "execution_count": 66,
   "metadata": {},
   "outputs": [],
   "source": [
    "with open('qs_scores.json','w') as qsfile:\n",
    "    json.dump(qs_dict, qsfile)\n",
    "\n",
    "# double-click the output file, will open in json interpretation mode\n",
    "# right-click -> open with editor, can see plain text"
   ]
  },
  {
   "cell_type": "markdown",
   "metadata": {},
   "source": [
    "---"
   ]
  },
  {
   "cell_type": "markdown",
   "metadata": {},
   "source": [
    "#### Getting JSON data from a Web page"
   ]
  },
  {
   "cell_type": "code",
   "execution_count": 71,
   "metadata": {},
   "outputs": [],
   "source": [
    "import requests"
   ]
  },
  {
   "cell_type": "markdown",
   "metadata": {},
   "source": [
    "#### Example of reading public JSON dataset\n",
    "\n",
    "Nobel Prizes - http://api.nobelprize.org/v1/prize.json"
   ]
  },
  {
   "cell_type": "code",
   "execution_count": 72,
   "metadata": {},
   "outputs": [],
   "source": [
    "nobel_url = ' http://api.nobelprize.org/v1/prize.json'\n",
    "resp = requests.get(nobel_url)\n",
    "nobels = json.loads(resp.text)"
   ]
  },
  {
   "cell_type": "code",
   "execution_count": 73,
   "metadata": {},
   "outputs": [
    {
     "data": {
      "text/plain": [
       "658"
      ]
     },
     "execution_count": 73,
     "metadata": {},
     "output_type": "execute_result"
    }
   ],
   "source": [
    "len(nobels['prizes'])"
   ]
  },
  {
   "cell_type": "code",
   "execution_count": 72,
   "metadata": {},
   "outputs": [
    {
     "name": "stdout",
     "output_type": "stream",
     "text": [
      "{'year': '2021', 'category': 'chemistry', 'laureates': [{'id': '1002', 'firstname': 'Benjamin', 'surname': 'List', 'motivation': '\"for the development of asymmetric organocatalysis\"', 'share': '2'}, {'id': '1003', 'firstname': 'David', 'surname': 'MacMillan', 'motivation': '\"for the development of asymmetric organocatalysis\"', 'share': '2'}]}\n"
     ]
    }
   ],
   "source": [
    "print(nobels['prizes'][0])"
   ]
  },
  {
   "cell_type": "code",
   "execution_count": 73,
   "metadata": {},
   "outputs": [
    {
     "name": "stdout",
     "output_type": "stream",
     "text": [
      "[{'year': '2021', 'category': 'chemistry', 'laureates': [{'id': '1002', 'firstname': 'Benjamin', 'surname': 'List', 'motivation': '\"for the development of asymmetric organocatalysis\"', 'share': '2'}, {'id': '1003', 'firstname': 'David', 'surname': 'MacMillan', 'motivation': '\"for the development of asymmetric organocatalysis\"', 'share': '2'}]}, {'year': '2021', 'category': 'economics', 'laureates': [{'id': '1007', 'firstname': 'David', 'surname': 'Card', 'motivation': '\"for his empirical contributions  to labour economics\"', 'share': '2'}, {'id': '1008', 'firstname': 'Joshua', 'surname': 'Angrist', 'motivation': '\"for their methodological contributions to the analysis  of causal relationships\"', 'share': '4'}, {'id': '1009', 'firstname': 'Guido', 'surname': 'Imbens', 'motivation': '\"for their methodological contributions to the analysis  of causal relationships\"', 'share': '4'}]}, {'year': '2021', 'category': 'literature', 'laureates': [{'id': '1004', 'firstname': 'Abdulrazak', 'surname': 'Gurnah', 'motivation': '\"for his uncompromising and compassionate penetration of the effects of colonialism and the  fate of the refugee in the gulf between cultures and continents\"', 'share': '1'}]}, {'year': '2021', 'category': 'peace', 'laureates': [{'id': '1005', 'firstname': 'Maria', 'surname': 'Ressa', 'motivation': '\"for their efforts to safeguard freedom of expression, which  is a precondition for democracy and lasting peace\"', 'share': '2'}, {'id': '1006', 'firstname': 'Dmitry', 'surname': 'Muratov', 'motivation': '\"for their efforts to safeguard freedom of expression, which  is a precondition for democracy and lasting peace\"', 'share': '2'}]}, {'year': '2021', 'category': 'physics', 'overallMotivation': '\"for groundbreaking contributions to our understanding of complex physical systems\"', 'laureates': [{'id': '999', 'firstname': 'Syukuro', 'surname': 'Manabe', 'motivation': '\"for the physical modelling of Earth’s climate, quantifying variability and reliably predicting global warming\"', 'share': '4'}, {'id': '1000', 'firstname': 'Klaus', 'surname': 'Hasselmann', 'motivation': '\"for the physical modelling of Earth’s climate, quantifying variability and reliably predicting global warming\"', 'share': '4'}, {'id': '1001', 'firstname': 'Giorgio', 'surname': 'Parisi', 'motivation': '\"for the discovery of the interplay of disorder and fluctuations in physical systems from atomic to planetary scales\"', 'share': '2'}]}, {'year': '2021', 'category': 'medicine', 'laureates': [{'id': '997', 'firstname': 'David', 'surname': 'Julius', 'motivation': '\"for their discoveries of receptors for temperature and touch\"', 'share': '2'}, {'id': '998', 'firstname': 'Ardem', 'surname': 'Patapoutian', 'motivation': '\"for their discoveries of receptors for temperature and touch\"', 'share': '2'}]}]\n"
     ]
    }
   ],
   "source": [
    "# all prizes awarded in the year 2021\n",
    "nobels_2021 = [prize for prize in nobels['prizes'] if prize['year'] == '2021']\n",
    "print(nobels_2021)"
   ]
  },
  {
   "cell_type": "markdown",
   "metadata": {},
   "source": [
    "**This is TMI and a bit hard to read, we want to write in a user-friendly format**\n",
    "\n",
    "**We want:**<br>\n",
    "    Chemistry: name1, name2 ...<br>\n",
    "    Economics: name1, name2 ...\n"
   ]
  },
  {
   "cell_type": "code",
   "execution_count": 74,
   "metadata": {},
   "outputs": [
    {
     "name": "stdout",
     "output_type": "stream",
     "text": [
      "Chemistry: Benjamin List, David MacMillan\n",
      "Economics: David Card, Joshua Angrist, Guido Imbens\n",
      "Literature: Abdulrazak Gurnah\n",
      "Peace: Maria Ressa, Dmitry Muratov\n",
      "Physics: Syukuro Manabe, Klaus Hasselmann, Giorgio Parisi\n",
      "Medicine: David Julius, Ardem Patapoutian\n"
     ]
    }
   ],
   "source": [
    "for prize in nobels_2021:\n",
    "    print(prize['category'].capitalize() + ': ',end='')\n",
    "    winners = [winner['firstname']+' '+winner['surname'] for winner in prize['laureates']]\n",
    "    print(', '.join(winners))"
   ]
  },
  {
   "cell_type": "code",
   "execution_count": 76,
   "metadata": {},
   "outputs": [
    {
     "name": "stdout",
     "output_type": "stream",
     "text": [
      "Chemistry: Emmanuelle Charpentier, Jennifer A. Doudna\n",
      "Economics: Paul Milgrom, Robert Wilson\n",
      "Literature: Louise Glück\n",
      "Peace: "
     ]
    },
    {
     "ename": "KeyError",
     "evalue": "'surname'",
     "output_type": "error",
     "traceback": [
      "\u001b[0;31m---------------------------------------------------------------------------\u001b[0m",
      "\u001b[0;31mKeyError\u001b[0m                                  Traceback (most recent call last)",
      "\u001b[0;32m<ipython-input-76-4dcc49a2ff09>\u001b[0m in \u001b[0;36m<module>\u001b[0;34m\u001b[0m\n\u001b[1;32m      2\u001b[0m \u001b[0;32mfor\u001b[0m \u001b[0mprize\u001b[0m \u001b[0;32min\u001b[0m \u001b[0mnobels_2020\u001b[0m\u001b[0;34m:\u001b[0m\u001b[0;34m\u001b[0m\u001b[0;34m\u001b[0m\u001b[0m\n\u001b[1;32m      3\u001b[0m     \u001b[0mprint\u001b[0m\u001b[0;34m(\u001b[0m\u001b[0mprize\u001b[0m\u001b[0;34m[\u001b[0m\u001b[0;34m'category'\u001b[0m\u001b[0;34m]\u001b[0m\u001b[0;34m.\u001b[0m\u001b[0mcapitalize\u001b[0m\u001b[0;34m(\u001b[0m\u001b[0;34m)\u001b[0m \u001b[0;34m+\u001b[0m \u001b[0;34m': '\u001b[0m\u001b[0;34m,\u001b[0m\u001b[0mend\u001b[0m\u001b[0;34m=\u001b[0m\u001b[0;34m''\u001b[0m\u001b[0;34m)\u001b[0m\u001b[0;34m\u001b[0m\u001b[0;34m\u001b[0m\u001b[0m\n\u001b[0;32m----> 4\u001b[0;31m     \u001b[0mwinners\u001b[0m \u001b[0;34m=\u001b[0m \u001b[0;34m[\u001b[0m\u001b[0mwinner\u001b[0m\u001b[0;34m[\u001b[0m\u001b[0;34m'firstname'\u001b[0m\u001b[0;34m]\u001b[0m\u001b[0;34m+\u001b[0m\u001b[0;34m' '\u001b[0m\u001b[0;34m+\u001b[0m\u001b[0mwinner\u001b[0m\u001b[0;34m[\u001b[0m\u001b[0;34m'surname'\u001b[0m\u001b[0;34m]\u001b[0m \u001b[0;32mfor\u001b[0m \u001b[0mwinner\u001b[0m \u001b[0;32min\u001b[0m \u001b[0mprize\u001b[0m\u001b[0;34m[\u001b[0m\u001b[0;34m'laureates'\u001b[0m\u001b[0;34m]\u001b[0m\u001b[0;34m]\u001b[0m\u001b[0;34m\u001b[0m\u001b[0;34m\u001b[0m\u001b[0m\n\u001b[0m\u001b[1;32m      5\u001b[0m     \u001b[0mprint\u001b[0m\u001b[0;34m(\u001b[0m\u001b[0;34m', '\u001b[0m\u001b[0;34m.\u001b[0m\u001b[0mjoin\u001b[0m\u001b[0;34m(\u001b[0m\u001b[0mwinners\u001b[0m\u001b[0;34m)\u001b[0m\u001b[0;34m)\u001b[0m\u001b[0;34m\u001b[0m\u001b[0;34m\u001b[0m\u001b[0m\n",
      "\u001b[0;32m<ipython-input-76-4dcc49a2ff09>\u001b[0m in \u001b[0;36m<listcomp>\u001b[0;34m(.0)\u001b[0m\n\u001b[1;32m      2\u001b[0m \u001b[0;32mfor\u001b[0m \u001b[0mprize\u001b[0m \u001b[0;32min\u001b[0m \u001b[0mnobels_2020\u001b[0m\u001b[0;34m:\u001b[0m\u001b[0;34m\u001b[0m\u001b[0;34m\u001b[0m\u001b[0m\n\u001b[1;32m      3\u001b[0m     \u001b[0mprint\u001b[0m\u001b[0;34m(\u001b[0m\u001b[0mprize\u001b[0m\u001b[0;34m[\u001b[0m\u001b[0;34m'category'\u001b[0m\u001b[0;34m]\u001b[0m\u001b[0;34m.\u001b[0m\u001b[0mcapitalize\u001b[0m\u001b[0;34m(\u001b[0m\u001b[0;34m)\u001b[0m \u001b[0;34m+\u001b[0m \u001b[0;34m': '\u001b[0m\u001b[0;34m,\u001b[0m\u001b[0mend\u001b[0m\u001b[0;34m=\u001b[0m\u001b[0;34m''\u001b[0m\u001b[0;34m)\u001b[0m\u001b[0;34m\u001b[0m\u001b[0;34m\u001b[0m\u001b[0m\n\u001b[0;32m----> 4\u001b[0;31m     \u001b[0mwinners\u001b[0m \u001b[0;34m=\u001b[0m \u001b[0;34m[\u001b[0m\u001b[0mwinner\u001b[0m\u001b[0;34m[\u001b[0m\u001b[0;34m'firstname'\u001b[0m\u001b[0;34m]\u001b[0m\u001b[0;34m+\u001b[0m\u001b[0;34m' '\u001b[0m\u001b[0;34m+\u001b[0m\u001b[0mwinner\u001b[0m\u001b[0;34m[\u001b[0m\u001b[0;34m'surname'\u001b[0m\u001b[0;34m]\u001b[0m \u001b[0;32mfor\u001b[0m \u001b[0mwinner\u001b[0m \u001b[0;32min\u001b[0m \u001b[0mprize\u001b[0m\u001b[0;34m[\u001b[0m\u001b[0;34m'laureates'\u001b[0m\u001b[0;34m]\u001b[0m\u001b[0;34m]\u001b[0m\u001b[0;34m\u001b[0m\u001b[0;34m\u001b[0m\u001b[0m\n\u001b[0m\u001b[1;32m      5\u001b[0m     \u001b[0mprint\u001b[0m\u001b[0;34m(\u001b[0m\u001b[0;34m', '\u001b[0m\u001b[0;34m.\u001b[0m\u001b[0mjoin\u001b[0m\u001b[0;34m(\u001b[0m\u001b[0mwinners\u001b[0m\u001b[0;34m)\u001b[0m\u001b[0;34m)\u001b[0m\u001b[0;34m\u001b[0m\u001b[0;34m\u001b[0m\u001b[0m\n",
      "\u001b[0;31mKeyError\u001b[0m: 'surname'"
     ]
    }
   ],
   "source": [
    "# let's take a look at prizes for 2020\n",
    "nobels_2020 = [prize for prize in nobels['prizes'] if prize['year'] == '2020']\n",
    "for prize in nobels_2020:\n",
    "    print(prize['category'].capitalize() + ': ',end='')\n",
    "    winners = [winner['firstname']+' '+winner['surname'] for winner in prize['laureates']]\n",
    "    print(', '.join(winners))"
   ]
  },
  {
   "cell_type": "code",
   "execution_count": 77,
   "metadata": {},
   "outputs": [
    {
     "name": "stdout",
     "output_type": "stream",
     "text": [
      "Chemistry: Emmanuelle Charpentier, Jennifer A. Doudna\n",
      "Economics: Paul Milgrom, Robert Wilson\n",
      "Literature: Louise Glück\n",
      "Peace: World Food Programme \n",
      "Physics: Roger Penrose, Reinhard Genzel, Andrea Ghez\n",
      "Medicine: Harvey Alter, Michael Houghton, Charles Rice\n"
     ]
    }
   ],
   "source": [
    "# surname missing in Peace prize, could be missing in other years as well\n",
    "# use dict get method with default return of empty string if key not found\n",
    "for prize in nobels_2020:\n",
    "    print(prize['category'].capitalize() + ': ',end='')\n",
    "    winners = [winner['firstname']+' '+winner.get('surname','') for winner in prize['laureates']]\n",
    "    print(', '.join(winners))"
   ]
  },
  {
   "cell_type": "markdown",
   "metadata": {},
   "source": [
    "---"
   ]
  },
  {
   "cell_type": "markdown",
   "metadata": {},
   "source": [
    "#### Basic JSON structure: https://www.json.org/json-en.html\n",
    "As the description says at the top, JSON is built on two structures (using Python corresponding terminology: dictionary (key-value pairs), and lists (arrays)"
   ]
  },
  {
   "cell_type": "markdown",
   "metadata": {},
   "source": [
    "---"
   ]
  },
  {
   "cell_type": "markdown",
   "metadata": {},
   "source": [
    "#### <font color=\"brown\">Set</font>"
   ]
  },
  {
   "cell_type": "code",
   "execution_count": 9,
   "metadata": {},
   "outputs": [
    {
     "name": "stdout",
     "output_type": "stream",
     "text": [
      "{2, 3}\n"
     ]
    }
   ],
   "source": [
    "set1 = {2,2,3}\n",
    "print(set1)"
   ]
  },
  {
   "cell_type": "code",
   "execution_count": 10,
   "metadata": {},
   "outputs": [
    {
     "name": "stdout",
     "output_type": "stream",
     "text": [
      "{2, 'two', 'three'}\n"
     ]
    }
   ],
   "source": [
    "set2 = {2,\"two\",\"three\"}\n",
    "print(set2)"
   ]
  },
  {
   "cell_type": "code",
   "execution_count": 11,
   "metadata": {},
   "outputs": [
    {
     "ename": "TypeError",
     "evalue": "'set' object is not subscriptable",
     "output_type": "error",
     "traceback": [
      "\u001b[0;31m---------------------------------------------------------------------------\u001b[0m",
      "\u001b[0;31mTypeError\u001b[0m                                 Traceback (most recent call last)",
      "\u001b[0;32m<ipython-input-11-e5355f2041a2>\u001b[0m in \u001b[0;36m<module>\u001b[0;34m\u001b[0m\n\u001b[0;32m----> 1\u001b[0;31m \u001b[0mset2\u001b[0m\u001b[0;34m[\u001b[0m\u001b[0;36m0\u001b[0m\u001b[0;34m]\u001b[0m\u001b[0;34m\u001b[0m\u001b[0;34m\u001b[0m\u001b[0m\n\u001b[0m\u001b[1;32m      2\u001b[0m \u001b[0;31m# sets are unordered, so can't be indexed\u001b[0m\u001b[0;34m\u001b[0m\u001b[0;34m\u001b[0m\u001b[0;34m\u001b[0m\u001b[0m\n",
      "\u001b[0;31mTypeError\u001b[0m: 'set' object is not subscriptable"
     ]
    }
   ],
   "source": [
    "set2[0]\n",
    "# sets are unordered, so can't be indexed"
   ]
  },
  {
   "cell_type": "markdown",
   "metadata": {},
   "source": [
    "**Building sets out of iterables (strings, lists, tuples)**"
   ]
  },
  {
   "cell_type": "code",
   "execution_count": 15,
   "metadata": {},
   "outputs": [
    {
     "name": "stdout",
     "output_type": "stream",
     "text": [
      "{'l', 'p', 'a', 'e'}\n",
      "{'e', 'p', 'i'}\n",
      "{1, 2, 3, 4}\n",
      "{'x', 'y', 'z'}\n"
     ]
    }
   ],
   "source": [
    "set1 = set(\"apple\")\n",
    "print(set1)\n",
    "set2 = set(\"pie\")\n",
    "print(set2)\n",
    "set3 = set([1,3,4,2,1])\n",
    "print(set3)\n",
    "set4 = set(('x','y','x','z'))\n",
    "print(set4)"
   ]
  },
  {
   "cell_type": "markdown",
   "metadata": {},
   "source": [
    "**Adding to set**"
   ]
  },
  {
   "cell_type": "code",
   "execution_count": 16,
   "metadata": {},
   "outputs": [
    {
     "name": "stdout",
     "output_type": "stream",
     "text": [
      "{'p', 'a'}\n"
     ]
    }
   ],
   "source": [
    "myset = set()\n",
    "myset.add('a')\n",
    "myset.add('p')\n",
    "myset.add('p')\n",
    "print(myset)"
   ]
  },
  {
   "cell_type": "markdown",
   "metadata": {},
   "source": [
    "**Set Operations**"
   ]
  },
  {
   "cell_type": "code",
   "execution_count": 17,
   "metadata": {},
   "outputs": [
    {
     "name": "stdout",
     "output_type": "stream",
     "text": [
      "{'l', 'p', 'e', 'a', 'i'}\n",
      "{'e', 'p'}\n",
      "{'l', 'a'}\n",
      "{'i'}\n",
      "False\n",
      "True\n",
      "True\n",
      "True\n",
      "False\n",
      "True\n"
     ]
    }
   ],
   "source": [
    "print(set(\"apple\") | set(\"pie\"))  # union\n",
    "print(set(\"apple\") & set(\"pie\"))  # intersection\n",
    "print(set(\"apple\") - set(\"pie\"))  # difference\n",
    "print(set(\"pie\") - set(\"apple\"))\n",
    "print(set(\"pie\") <= set(\"apple\")) # subset\n",
    "print(set(\"pe\") <= set(\"apple\"))\n",
    "print(set(\"pe\") < set(\"apple\"))   # proper subset\n",
    "print(set(\"peal\") <= set(\"apple\"))\n",
    "print(set(\"peal\") < set(\"apple\"))\n",
    "print('i' in set(\"pie\"))"
   ]
  },
  {
   "cell_type": "markdown",
   "metadata": {},
   "source": [
    "**Example of set usage: find unique words in document**"
   ]
  },
  {
   "cell_type": "code",
   "execution_count": 31,
   "metadata": {},
   "outputs": [],
   "source": [
    "def getword(token):\n",
    "    token = token.strip(',.')\n",
    "    if not token.isalpha():\n",
    "        return None\n",
    "    if len(token) < 4:\n",
    "        return None\n",
    "    return token.lower()"
   ]
  },
  {
   "cell_type": "code",
   "execution_count": 32,
   "metadata": {},
   "outputs": [],
   "source": [
    "from collections import Counter\n",
    "\n",
    "unique_words = set()\n",
    "word_count = Counter()\n",
    "for line in open('metamorphosis.txt'):\n",
    "    tokens = line.split()  # default separator is whitespace\n",
    "    for token in tokens:\n",
    "        word = getword(token)\n",
    "        if word:\n",
    "            unique_words.add(word)\n",
    "            word_count.update([word])"
   ]
  },
  {
   "cell_type": "code",
   "execution_count": 33,
   "metadata": {},
   "outputs": [
    {
     "name": "stdout",
     "output_type": "stream",
     "text": [
      "64\n",
      "64\n"
     ]
    }
   ],
   "source": [
    "print(len(word_count))\n",
    "print(len(unique_words))"
   ]
  },
  {
   "cell_type": "code",
   "execution_count": 34,
   "metadata": {},
   "outputs": [
    {
     "name": "stdout",
     "output_type": "stream",
     "text": [
      "{'right', 'tried', 'quite', 'that', 'drops', 'unable', 'onto', 'felt', 'into', 'only', 'stopped', 'legs', 'dull', 'made', 'there', 'thought', 'never', 'before', 'gregor', 'nonsense', 'pain', 'about', 'himself', 'hundred', 'sleeping', 'have', 'because', 'little', 'must', 'when', 'something', 'then', 'where', 'present', 'window', 'state', 'look', 'used', 'rolled', 'back', 'shut', 'floundering', 'began', 'this', 'threw', 'hitting', 'forget', 'which', 'weather', 'longer', 'position', 'could', 'pane', 'mild', 'always', 'times', 'eyes', 'rain', 'feel', 'hard', 'however', 'heard', 'turned', 'sleep'}\n"
     ]
    }
   ],
   "source": [
    "print(unique_words)"
   ]
  },
  {
   "cell_type": "code",
   "execution_count": 35,
   "metadata": {},
   "outputs": [
    {
     "name": "stdout",
     "output_type": "stream",
     "text": [
      "['about', 'always', 'back', 'because', 'before', 'began', 'could', 'drops', 'dull', 'eyes', 'feel', 'felt', 'floundering', 'forget', 'gregor', 'hard', 'have', 'heard', 'himself', 'hitting', 'however', 'hundred', 'into', 'legs', 'little', 'longer', 'look', 'made', 'mild', 'must', 'never', 'nonsense', 'only', 'onto', 'pain', 'pane', 'position', 'present', 'quite', 'rain', 'right', 'rolled', 'shut', 'sleep', 'sleeping', 'something', 'state', 'stopped', 'that', 'then', 'there', 'this', 'thought', 'threw', 'times', 'tried', 'turned', 'unable', 'used', 'weather', 'when', 'where', 'which', 'window']\n"
     ]
    }
   ],
   "source": [
    "print(sorted(unique_words))"
   ]
  },
  {
   "cell_type": "markdown",
   "metadata": {},
   "source": [
    "---"
   ]
  },
  {
   "cell_type": "markdown",
   "metadata": {},
   "source": [
    "#### <font color=\"brown\">Timing Execution</font>"
   ]
  },
  {
   "cell_type": "code",
   "execution_count": 36,
   "metadata": {},
   "outputs": [
    {
     "data": {
      "text/plain": [
       "33334"
      ]
     },
     "execution_count": 36,
     "metadata": {},
     "output_type": "execute_result"
    }
   ],
   "source": [
    "# set membership check is supposed to be very fast!\n",
    "long_list = [x for x in range(100000) if x % 3 == 0]\n",
    "len(long_list)"
   ]
  },
  {
   "cell_type": "code",
   "execution_count": 37,
   "metadata": {},
   "outputs": [
    {
     "name": "stdout",
     "output_type": "stream",
     "text": [
      "True\n",
      "True\n"
     ]
    }
   ],
   "source": [
    "# do this for membership, converting list into set:\n",
    "print(89232 in set(long_list))\n",
    "# instead of directly doing membership on list\n",
    "print(89232 in long_list)"
   ]
  },
  {
   "cell_type": "markdown",
   "metadata": {},
   "source": [
    "**Exactly how much faster is it to do membership in set, as opposed to membership in list?**"
   ]
  },
  {
   "cell_type": "code",
   "execution_count": 39,
   "metadata": {},
   "outputs": [],
   "source": [
    "import timeit"
   ]
  },
  {
   "cell_type": "markdown",
   "metadata": {},
   "source": [
    "**Version 1 - Timing combined List/Set construction and membership test**"
   ]
  },
  {
   "cell_type": "code",
   "execution_count": 45,
   "metadata": {},
   "outputs": [
    {
     "data": {
      "text/plain": [
       "0.07280360699951416"
      ]
     },
     "execution_count": 45,
     "metadata": {},
     "output_type": "execute_result"
    }
   ],
   "source": [
    "timeit.timeit('89232 in [x for x in range(100000) if x % 3 == 0]',number=10)"
   ]
  },
  {
   "cell_type": "code",
   "execution_count": 46,
   "metadata": {},
   "outputs": [
    {
     "data": {
      "text/plain": [
       "0.07695339200290618"
      ]
     },
     "execution_count": 46,
     "metadata": {},
     "output_type": "execute_result"
    }
   ],
   "source": [
    "timeit.timeit('89232 in set([x for x in range(100000) if x % 3 == 0])',number=10)"
   ]
  },
  {
   "cell_type": "markdown",
   "metadata": {},
   "source": [
    "**Version 2 - Timing only membership, after one-time setup of list/set**"
   ]
  },
  {
   "cell_type": "code",
   "execution_count": 47,
   "metadata": {},
   "outputs": [
    {
     "data": {
      "text/plain": [
       "0.03619240900297882"
      ]
     },
     "execution_count": 47,
     "metadata": {},
     "output_type": "execute_result"
    }
   ],
   "source": [
    "timeit.timeit('89232 in lst',setup='lst=[x for x in range(100000) if x % 3 == 0]',number=100)"
   ]
  },
  {
   "cell_type": "code",
   "execution_count": 49,
   "metadata": {},
   "outputs": [
    {
     "name": "stdout",
     "output_type": "stream",
     "text": [
      "0.03600813099910738\n"
     ]
    }
   ],
   "source": [
    "t1=timeit.timeit('89232 in lst',setup='lst=[x for x in range(100000) if x % 3 == 0]',number=100)\n",
    "print(t1)"
   ]
  },
  {
   "cell_type": "code",
   "execution_count": 50,
   "metadata": {},
   "outputs": [
    {
     "name": "stdout",
     "output_type": "stream",
     "text": [
      "6.581998604815453e-06\n"
     ]
    }
   ],
   "source": [
    "t2=timeit.timeit('89232 in lstset',setup='lstset = set([x for x in range(100000) if x % 3 == 0])',number=100)\n",
    "print(t2)"
   ]
  },
  {
   "cell_type": "code",
   "execution_count": 52,
   "metadata": {},
   "outputs": [
    {
     "name": "stdout",
     "output_type": "stream",
     "text": [
      "5470.6986678428475\n"
     ]
    }
   ],
   "source": [
    "print(t1/t2)"
   ]
  },
  {
   "cell_type": "markdown",
   "metadata": {},
   "source": [
    "**Version 3 - Do setup outside, and pass global namespace in to timeit**"
   ]
  },
  {
   "cell_type": "code",
   "execution_count": 53,
   "metadata": {},
   "outputs": [
    {
     "ename": "NameError",
     "evalue": "name 'alst' is not defined",
     "output_type": "error",
     "traceback": [
      "\u001b[0;31m---------------------------------------------------------------------------\u001b[0m",
      "\u001b[0;31mNameError\u001b[0m                                 Traceback (most recent call last)",
      "\u001b[0;32m<ipython-input-53-d4562503d467>\u001b[0m in \u001b[0;36m<module>\u001b[0;34m\u001b[0m\n\u001b[1;32m      1\u001b[0m \u001b[0malst\u001b[0m \u001b[0;34m=\u001b[0m \u001b[0;34m[\u001b[0m\u001b[0mx\u001b[0m \u001b[0;32mfor\u001b[0m \u001b[0mx\u001b[0m \u001b[0;32min\u001b[0m \u001b[0mrange\u001b[0m\u001b[0;34m(\u001b[0m\u001b[0;36m100000\u001b[0m\u001b[0;34m)\u001b[0m \u001b[0;32mif\u001b[0m \u001b[0mx\u001b[0m \u001b[0;34m%\u001b[0m \u001b[0;36m3\u001b[0m \u001b[0;34m==\u001b[0m \u001b[0;36m0\u001b[0m\u001b[0;34m]\u001b[0m\u001b[0;34m\u001b[0m\u001b[0;34m\u001b[0m\u001b[0m\n\u001b[0;32m----> 2\u001b[0;31m \u001b[0mtimeit\u001b[0m\u001b[0;34m.\u001b[0m\u001b[0mtimeit\u001b[0m\u001b[0;34m(\u001b[0m\u001b[0;34m'89232 in alst'\u001b[0m\u001b[0;34m,\u001b[0m\u001b[0mnumber\u001b[0m\u001b[0;34m=\u001b[0m\u001b[0;36m100\u001b[0m\u001b[0;34m)\u001b[0m\u001b[0;34m\u001b[0m\u001b[0;34m\u001b[0m\u001b[0m\n\u001b[0m",
      "\u001b[0;32m~/opt/anaconda3/lib/python3.7/timeit.py\u001b[0m in \u001b[0;36mtimeit\u001b[0;34m(stmt, setup, timer, number, globals)\u001b[0m\n\u001b[1;32m    230\u001b[0m            number=default_number, globals=None):\n\u001b[1;32m    231\u001b[0m     \u001b[0;34m\"\"\"Convenience function to create Timer object and call timeit method.\"\"\"\u001b[0m\u001b[0;34m\u001b[0m\u001b[0;34m\u001b[0m\u001b[0m\n\u001b[0;32m--> 232\u001b[0;31m     \u001b[0;32mreturn\u001b[0m \u001b[0mTimer\u001b[0m\u001b[0;34m(\u001b[0m\u001b[0mstmt\u001b[0m\u001b[0;34m,\u001b[0m \u001b[0msetup\u001b[0m\u001b[0;34m,\u001b[0m \u001b[0mtimer\u001b[0m\u001b[0;34m,\u001b[0m \u001b[0mglobals\u001b[0m\u001b[0;34m)\u001b[0m\u001b[0;34m.\u001b[0m\u001b[0mtimeit\u001b[0m\u001b[0;34m(\u001b[0m\u001b[0mnumber\u001b[0m\u001b[0;34m)\u001b[0m\u001b[0;34m\u001b[0m\u001b[0;34m\u001b[0m\u001b[0m\n\u001b[0m\u001b[1;32m    233\u001b[0m \u001b[0;34m\u001b[0m\u001b[0m\n\u001b[1;32m    234\u001b[0m def repeat(stmt=\"pass\", setup=\"pass\", timer=default_timer,\n",
      "\u001b[0;32m~/opt/anaconda3/lib/python3.7/timeit.py\u001b[0m in \u001b[0;36mtimeit\u001b[0;34m(self, number)\u001b[0m\n\u001b[1;32m    174\u001b[0m         \u001b[0mgc\u001b[0m\u001b[0;34m.\u001b[0m\u001b[0mdisable\u001b[0m\u001b[0;34m(\u001b[0m\u001b[0;34m)\u001b[0m\u001b[0;34m\u001b[0m\u001b[0;34m\u001b[0m\u001b[0m\n\u001b[1;32m    175\u001b[0m         \u001b[0;32mtry\u001b[0m\u001b[0;34m:\u001b[0m\u001b[0;34m\u001b[0m\u001b[0;34m\u001b[0m\u001b[0m\n\u001b[0;32m--> 176\u001b[0;31m             \u001b[0mtiming\u001b[0m \u001b[0;34m=\u001b[0m \u001b[0mself\u001b[0m\u001b[0;34m.\u001b[0m\u001b[0minner\u001b[0m\u001b[0;34m(\u001b[0m\u001b[0mit\u001b[0m\u001b[0;34m,\u001b[0m \u001b[0mself\u001b[0m\u001b[0;34m.\u001b[0m\u001b[0mtimer\u001b[0m\u001b[0;34m)\u001b[0m\u001b[0;34m\u001b[0m\u001b[0;34m\u001b[0m\u001b[0m\n\u001b[0m\u001b[1;32m    177\u001b[0m         \u001b[0;32mfinally\u001b[0m\u001b[0;34m:\u001b[0m\u001b[0;34m\u001b[0m\u001b[0;34m\u001b[0m\u001b[0m\n\u001b[1;32m    178\u001b[0m             \u001b[0;32mif\u001b[0m \u001b[0mgcold\u001b[0m\u001b[0;34m:\u001b[0m\u001b[0;34m\u001b[0m\u001b[0;34m\u001b[0m\u001b[0m\n",
      "\u001b[0;32m~/opt/anaconda3/lib/python3.7/timeit.py\u001b[0m in \u001b[0;36minner\u001b[0;34m(_it, _timer)\u001b[0m\n",
      "\u001b[0;31mNameError\u001b[0m: name 'alst' is not defined"
     ]
    }
   ],
   "source": [
    "alst = [x for x in range(100000) if x % 3 == 0]\n",
    "timeit.timeit('89232 in alst',number=100)"
   ]
  },
  {
   "cell_type": "markdown",
   "metadata": {},
   "source": [
    "**Does not work because the timeit function does not have access to calling namespace, so alst is unknown**"
   ]
  },
  {
   "cell_type": "code",
   "execution_count": 54,
   "metadata": {},
   "outputs": [
    {
     "data": {
      "text/plain": [
       "0.03596254899457563"
      ]
     },
     "execution_count": 54,
     "metadata": {},
     "output_type": "execute_result"
    }
   ],
   "source": [
    "alst = [x for x in range(100000) if x % 3 == 0]\n",
    "timeit.timeit('89232 in alst',globals=globals(),number=100)"
   ]
  },
  {
   "cell_type": "code",
   "execution_count": 55,
   "metadata": {},
   "outputs": [
    {
     "data": {
      "text/plain": [
       "7.201000698842108e-06"
      ]
     },
     "execution_count": 55,
     "metadata": {},
     "output_type": "execute_result"
    }
   ],
   "source": [
    "aset = set([x for x in range(100000) if x % 3 == 0])\n",
    "timeit.timeit('89232 in aset',globals=globals(),number=100)"
   ]
  },
  {
   "cell_type": "markdown",
   "metadata": {},
   "source": [
    "---"
   ]
  },
  {
   "cell_type": "markdown",
   "metadata": {},
   "source": [
    "#### <font color=\"brown\">Random</font>\n",
    "- bring up Python reference, and search for random\n",
    "- comes up with random module\n",
    "- go over choice and randint, and use them in the following"
   ]
  },
  {
   "cell_type": "code",
   "execution_count": 68,
   "metadata": {},
   "outputs": [],
   "source": [
    "import random"
   ]
  },
  {
   "cell_type": "code",
   "execution_count": 69,
   "metadata": {},
   "outputs": [],
   "source": [
    "articles = [\"the\", \"a\"]\n",
    "subjects = [\"man\", \"woman\", \"boy\", \"girl\", \"scientist\", \"loser\", \"poser\"]\n",
    "verbs = [\"jumped\", \"sang\", \"ran\", \"cried\", \"laughed\", \"played\", \"programmed\"]\n",
    "adverbs = [\"loudly\", \"badly\", \"heavily\", \"softly\", \"madly\", \"sadly\"]"
   ]
  },
  {
   "cell_type": "code",
   "execution_count": 70,
   "metadata": {},
   "outputs": [
    {
     "name": "stdout",
     "output_type": "stream",
     "text": [
      "the boy laughed heavily\n"
     ]
    }
   ],
   "source": [
    "line = 1\n",
    "while line < 7:\n",
    "    str = \"\"\n",
    "    str += random.choice(articles)\n",
    "    str += \" \" + random.choice(subjects)\n",
    "    str += \" \" + random.choice(verbs)\n",
    "    adv = random.randint(0,1)\n",
    "    if adv:\n",
    "         str += \" \" + random.choice(adverbs)\n",
    "    line += 1\n",
    "print(str)"
   ]
  },
  {
   "cell_type": "code",
   "execution_count": null,
   "metadata": {},
   "outputs": [],
   "source": []
  }
 ],
 "metadata": {
  "kernelspec": {
   "display_name": "Python 3",
   "language": "python",
   "name": "python3"
  },
  "language_info": {
   "codemirror_mode": {
    "name": "ipython",
    "version": 3
   },
   "file_extension": ".py",
   "mimetype": "text/x-python",
   "name": "python",
   "nbconvert_exporter": "python",
   "pygments_lexer": "ipython3",
   "version": "3.8.8"
  }
 },
 "nbformat": 4,
 "nbformat_minor": 4
}
