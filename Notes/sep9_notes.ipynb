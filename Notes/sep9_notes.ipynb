{
 "cells": [
  {
   "cell_type": "markdown",
   "metadata": {},
   "source": [
    "## Functions, strings, decisions"
   ]
  },
  {
   "cell_type": "markdown",
   "metadata": {},
   "source": [
    "---"
   ]
  },
  {
   "cell_type": "markdown",
   "metadata": {},
   "source": [
    "#### Party expense exercise\n",
    "\n",
    "Suppose that you are responsible for buying pizza and soda for your employer's annual company party. You must buy entire pizza pies and cases of soda (boxes of soda cans). You cannot buy individual slices of pizza or cans of soda, nor can you buy fractional numbers of pizza pies or soda cases.\n",
    "\n",
    "Write a function to compute the total cost of the pizza and soda you will need to buy. Do not buy more than you need to in order to supply each partygoer with the desired number of pizza slices and soda cans.\n",
    "\n",
    "Your function should take the following parameters:\n",
    "\n",
    "1. the number of people attending the party (default 5)\n",
    "2. the number of slices of pizza each person should be able to eat (default 2)\n",
    "3. the number of cans of soda each person should be able to drink (default 1)\n",
    "4. the cost of a pizza pie (default \\$10)\n",
    "5. the number of slices in a pizza pie (default 8)\n",
    "6. the cost of a case of soda (default \\$1.50)\n",
    "7. the number of cans in a case of soda (default 12)"
   ]
  },
  {
   "cell_type": "markdown",
   "metadata": {},
   "source": [
    "**Using default-valued paramaters**"
   ]
  },
  {
   "cell_type": "code",
   "execution_count": 3,
   "metadata": {},
   "outputs": [],
   "source": [
    "import math\n",
    "def party_cost(n=5,p=2,s=1,pc=10,ps=8,sc=1.5,cc=12):\n",
    "    pizza_cost = math.ceil((n*p)/ps) * pc\n",
    "    soda_cost = math.ceil((n*s)/cc) * sc\n",
    "    return pizza_cost + soda_cost"
   ]
  },
  {
   "cell_type": "code",
   "execution_count": 4,
   "metadata": {},
   "outputs": [
    {
     "data": {
      "text/plain": [
       "21.5"
      ]
     },
     "execution_count": 4,
     "metadata": {},
     "output_type": "execute_result"
    }
   ],
   "source": [
    "party_cost()"
   ]
  },
  {
   "cell_type": "code",
   "execution_count": 5,
   "metadata": {},
   "outputs": [
    {
     "data": {
      "text/plain": [
       "21.5"
      ]
     },
     "execution_count": 5,
     "metadata": {},
     "output_type": "execute_result"
    }
   ],
   "source": [
    "party_cost(5)"
   ]
  },
  {
   "cell_type": "code",
   "execution_count": 6,
   "metadata": {},
   "outputs": [
    {
     "name": "stdout",
     "output_type": "stream",
     "text": [
      "15\n"
     ]
    }
   ],
   "source": [
    "def func(x,y=5):\n",
    "    return x*y\n",
    "print(func(3))"
   ]
  },
  {
   "cell_type": "code",
   "execution_count": 7,
   "metadata": {},
   "outputs": [
    {
     "ename": "SyntaxError",
     "evalue": "non-default argument follows default argument (<ipython-input-7-29e94f7fed68>, line 1)",
     "output_type": "error",
     "traceback": [
      "\u001b[0;36m  File \u001b[0;32m\"<ipython-input-7-29e94f7fed68>\"\u001b[0;36m, line \u001b[0;32m1\u001b[0m\n\u001b[0;31m    def func(x=5,y):\u001b[0m\n\u001b[0m            ^\u001b[0m\n\u001b[0;31mSyntaxError\u001b[0m\u001b[0;31m:\u001b[0m non-default argument follows default argument\n"
     ]
    }
   ],
   "source": [
    "def func(x=5,y):\n",
    "    return x*y\n",
    "print(func(3))"
   ]
  },
  {
   "cell_type": "markdown",
   "metadata": {},
   "source": [
    "If there are any default arguments (i.e. parameters with default values), they must be at the end"
   ]
  },
  {
   "cell_type": "code",
   "execution_count": 8,
   "metadata": {},
   "outputs": [
    {
     "ename": "TypeError",
     "evalue": "func() missing 1 required positional argument: 'x'",
     "output_type": "error",
     "traceback": [
      "\u001b[0;31m---------------------------------------------------------------------------\u001b[0m",
      "\u001b[0;31mTypeError\u001b[0m                                 Traceback (most recent call last)",
      "\u001b[0;32m<ipython-input-8-0b4540f0c9c1>\u001b[0m in \u001b[0;36m<module>\u001b[0;34m\u001b[0m\n\u001b[1;32m      1\u001b[0m \u001b[0;32mdef\u001b[0m \u001b[0mfunc\u001b[0m\u001b[0;34m(\u001b[0m\u001b[0mx\u001b[0m\u001b[0;34m,\u001b[0m\u001b[0my\u001b[0m\u001b[0;34m=\u001b[0m\u001b[0;36m5\u001b[0m\u001b[0;34m)\u001b[0m\u001b[0;34m:\u001b[0m\u001b[0;34m\u001b[0m\u001b[0;34m\u001b[0m\u001b[0m\n\u001b[1;32m      2\u001b[0m     \u001b[0;32mreturn\u001b[0m \u001b[0mx\u001b[0m\u001b[0;34m*\u001b[0m\u001b[0my\u001b[0m\u001b[0;34m\u001b[0m\u001b[0;34m\u001b[0m\u001b[0m\n\u001b[0;32m----> 3\u001b[0;31m \u001b[0mprint\u001b[0m\u001b[0;34m(\u001b[0m\u001b[0mfunc\u001b[0m\u001b[0;34m(\u001b[0m\u001b[0;34m)\u001b[0m\u001b[0;34m)\u001b[0m\u001b[0;34m\u001b[0m\u001b[0;34m\u001b[0m\u001b[0m\n\u001b[0m",
      "\u001b[0;31mTypeError\u001b[0m: func() missing 1 required positional argument: 'x'"
     ]
    }
   ],
   "source": [
    "def func(x,y=5):\n",
    "    return x*y\n",
    "print(func())"
   ]
  },
  {
   "cell_type": "markdown",
   "metadata": {},
   "source": [
    "**Returning multiple values from a function**"
   ]
  },
  {
   "cell_type": "code",
   "execution_count": 9,
   "metadata": {},
   "outputs": [],
   "source": [
    "def party_cost_new(n=5,p=2,s=1,pc=10,ps=8,sc=1.5,cc=12):\n",
    "    pies = math.ceil((n*p)/ps)\n",
    "    pizza_cost =  pies * pc\n",
    "    soda_cases = math.ceil((n*s)/cc)\n",
    "    soda_cost =  soda_cases * sc\n",
    "    return pies, soda_cases, pizza_cost + soda_cost"
   ]
  },
  {
   "cell_type": "code",
   "execution_count": 10,
   "metadata": {},
   "outputs": [
    {
     "name": "stdout",
     "output_type": "stream",
     "text": [
      "pies=2, cases=1, cost=21.5\n"
     ]
    }
   ],
   "source": [
    "pies, cases, cost = party_cost_new()\n",
    "print(f'pies={pies}, cases={cases}, cost={cost}')"
   ]
  },
  {
   "cell_type": "code",
   "execution_count": 11,
   "metadata": {},
   "outputs": [
    {
     "data": {
      "text/plain": [
       "(2, 1, 21.5)"
      ]
     },
     "execution_count": 11,
     "metadata": {},
     "output_type": "execute_result"
    }
   ],
   "source": [
    "party_cost_new()"
   ]
  },
  {
   "cell_type": "markdown",
   "metadata": {},
   "source": [
    "---"
   ]
  },
  {
   "cell_type": "markdown",
   "metadata": {},
   "source": [
    "#### String methods\n",
    "Explore strings in Python documentation: Help -> Python Reference, then enter string in the search field<br>\n",
    "Click on the first link - string - in the search results<br>\n",
    "On the resulting page, click on String Methods in the yellow box at the top<p>\n",
    "\n",
    "A method is a function that is applied on an existing string"
   ]
  },
  {
   "cell_type": "code",
   "execution_count": 3,
   "metadata": {},
   "outputs": [
    {
     "data": {
      "text/plain": [
       "True"
      ]
     },
     "execution_count": 3,
     "metadata": {},
     "output_type": "execute_result"
    }
   ],
   "source": [
    "\"myfile.ipynb\".endswith('ipynb')"
   ]
  },
  {
   "cell_type": "code",
   "execution_count": 18,
   "metadata": {},
   "outputs": [
    {
     "data": {
      "text/plain": [
       "True"
      ]
     },
     "execution_count": 18,
     "metadata": {},
     "output_type": "execute_result"
    }
   ],
   "source": [
    "\"myfile.ipynb\".startswith(\"my\")"
   ]
  },
  {
   "cell_type": "code",
   "execution_count": 13,
   "metadata": {},
   "outputs": [
    {
     "data": {
      "text/plain": [
       "False"
      ]
     },
     "execution_count": 13,
     "metadata": {},
     "output_type": "execute_result"
    }
   ],
   "source": [
    "\"myfile.ipynb\".startswith(\"My\")  # case sensitive!"
   ]
  },
  {
   "cell_type": "code",
   "execution_count": 16,
   "metadata": {},
   "outputs": [
    {
     "data": {
      "text/plain": [
       "13"
      ]
     },
     "execution_count": 16,
     "metadata": {},
     "output_type": "execute_result"
    }
   ],
   "source": [
    "str = \"This is a sentence.\"\n",
    "str.find(\"ten\")"
   ]
  },
  {
   "cell_type": "code",
   "execution_count": 17,
   "metadata": {},
   "outputs": [
    {
     "data": {
      "text/plain": [
       "-1"
      ]
     },
     "execution_count": 17,
     "metadata": {},
     "output_type": "execute_result"
    }
   ],
   "source": [
    "str.find(\"tense\")  "
   ]
  },
  {
   "cell_type": "markdown",
   "metadata": {},
   "source": [
    "find returns -1 if not found in target"
   ]
  },
  {
   "cell_type": "code",
   "execution_count": 18,
   "metadata": {},
   "outputs": [
    {
     "data": {
      "text/plain": [
       "False"
      ]
     },
     "execution_count": 18,
     "metadata": {},
     "output_type": "execute_result"
    }
   ],
   "source": [
    "str.isalpha() # This will be false because there is a period at the end"
   ]
  },
  {
   "cell_type": "code",
   "execution_count": 12,
   "metadata": {},
   "outputs": [
    {
     "name": "stdout",
     "output_type": "stream",
     "text": [
      "True\n",
      "False\n",
      "False\n"
     ]
    }
   ],
   "source": [
    "res = \"abcd\".isalpha()\n",
    "print(res)\n",
    "res = \"\".isalpha()  # if string is empty, returns false\n",
    "print(res)\n",
    "res = \"hey!\".isalpha() # exclamation point is not a letter\n",
    "print(res)"
   ]
  },
  {
   "cell_type": "code",
   "execution_count": 13,
   "metadata": {},
   "outputs": [
    {
     "name": "stdout",
     "output_type": "stream",
     "text": [
      "True\n",
      "False\n"
     ]
    }
   ],
   "source": [
    "# check if all digits\n",
    "res = \"1234\".isdigit()\n",
    "print(res)\n",
    "res = \"848-123-4456\".isdigit()\n",
    "print(res)"
   ]
  },
  {
   "cell_type": "code",
   "execution_count": 14,
   "metadata": {},
   "outputs": [
    {
     "name": "stdout",
     "output_type": "stream",
     "text": [
      "01/25/2021\n"
     ]
    }
   ],
   "source": [
    "# replace\n",
    "res = \"01/25/2021\".replace(\"-\",\"/\")\n",
    "print(res)"
   ]
  },
  {
   "cell_type": "code",
   "execution_count": 19,
   "metadata": {},
   "outputs": [
    {
     "name": "stdout",
     "output_type": "stream",
     "text": [
      "This and that and the other\n",
      "This and that&the other\n"
     ]
    }
   ],
   "source": [
    "res = \"This&that&the other\".replace(\"&\",\" and \")\n",
    "print(res)\n",
    "res = \"This&that&the other\".replace(\"&\",\" and \", 1)  # only replace first occurence\n",
    "print(res)"
   ]
  },
  {
   "cell_type": "code",
   "execution_count": 20,
   "metadata": {},
   "outputs": [
    {
     "data": {
      "text/plain": [
       "\"There's fluff at either end\""
      ]
     },
     "execution_count": 20,
     "metadata": {},
     "output_type": "execute_result"
    }
   ],
   "source": [
    "\"  There's fluff at either end  \".strip()"
   ]
  },
  {
   "cell_type": "code",
   "execution_count": 23,
   "metadata": {},
   "outputs": [
    {
     "name": "stdout",
     "output_type": "stream",
     "text": [
      "Strip out \n"
     ]
    }
   ],
   "source": [
    "str = \"Strip out ;,!\"\n",
    "newstr = str.strip(\";,!\")\n",
    "print(newstr)"
   ]
  },
  {
   "cell_type": "code",
   "execution_count": 24,
   "metadata": {},
   "outputs": [
    {
     "name": "stdout",
     "output_type": "stream",
     "text": [
      "Strip out ;,\n"
     ]
    }
   ],
   "source": [
    "newstr = str.strip(\";!\")\n",
    "print(newstr)"
   ]
  },
  {
   "cell_type": "markdown",
   "metadata": {},
   "source": [
    "---"
   ]
  },
  {
   "cell_type": "markdown",
   "metadata": {},
   "source": [
    "#### Decisions"
   ]
  },
  {
   "cell_type": "code",
   "execution_count": 21,
   "metadata": {},
   "outputs": [
    {
     "name": "stdout",
     "output_type": "stream",
     "text": [
      "x < y\n",
      "outside the if\n"
     ]
    }
   ],
   "source": [
    "x=2\n",
    "y=3\n",
    "if x < y:\n",
    "    print ('x < y')\n",
    "print('outside the if')"
   ]
  },
  {
   "cell_type": "code",
   "execution_count": 22,
   "metadata": {},
   "outputs": [
    {
     "name": "stdout",
     "output_type": "stream",
     "text": [
      "outside the if\n"
     ]
    }
   ],
   "source": [
    "x=3\n",
    "y=2\n",
    "if x < y:\n",
    "    print ('x < y')\n",
    "print('outside the if')"
   ]
  },
  {
   "cell_type": "code",
   "execution_count": 23,
   "metadata": {},
   "outputs": [
    {
     "name": "stdout",
     "output_type": "stream",
     "text": [
      "x > y\n"
     ]
    }
   ],
   "source": [
    "if x > y:\n",
    "    print ('x > y')\n",
    "else:\n",
    "    print ('x not > y')"
   ]
  },
  {
   "cell_type": "code",
   "execution_count": 24,
   "metadata": {},
   "outputs": [
    {
     "name": "stdout",
     "output_type": "stream",
     "text": [
      "x not < y, and y < z\n"
     ]
    }
   ],
   "source": [
    "z = 10\n",
    "if x < y:\n",
    "    print ('x < y')\n",
    "elif y < z:\n",
    "    print ('x not < y, and y < z')\n",
    "else:\n",
    "    print ('x not < y, and y not < z')  "
   ]
  },
  {
   "cell_type": "code",
   "execution_count": 25,
   "metadata": {},
   "outputs": [
    {
     "name": "stdout",
     "output_type": "stream",
     "text": [
      "x not < y, and y < z\n"
     ]
    }
   ],
   "source": [
    "z = 10\n",
    "if x < y:\n",
    "    print ('x < y')\n",
    "else:\n",
    "    if y < z:\n",
    "        print ('x not < y, and y < z')\n",
    "    else:\n",
    "        print ('x not < y, and y not < z')  "
   ]
  },
  {
   "cell_type": "code",
   "execution_count": 26,
   "metadata": {},
   "outputs": [],
   "source": [
    "# arrange 3 numbers in ascending order\n",
    "def sort3(x,y,z):\n",
    "    if x < y:\n",
    "        if (y < z):\n",
    "            return x,y,z\n",
    "        elif x < z:\n",
    "            return x,z,y\n",
    "        else:\n",
    "            return z,x,y\n",
    "    else:\n",
    "        if x < z:\n",
    "            return y,x,z\n",
    "        elif y < z:\n",
    "            return y,z,x\n",
    "        else:\n",
    "            return z,y,x"
   ]
  },
  {
   "cell_type": "code",
   "execution_count": 27,
   "metadata": {},
   "outputs": [
    {
     "name": "stdout",
     "output_type": "stream",
     "text": [
      "(1, 2, 3)\n",
      "(1, 2, 3)\n",
      "(1, 2, 3)\n"
     ]
    }
   ],
   "source": [
    "print(sort3(1,2,3))\n",
    "print(sort3(1,3,2))\n",
    "print(sort3(2,1,3))"
   ]
  },
  {
   "cell_type": "code",
   "execution_count": 28,
   "metadata": {},
   "outputs": [],
   "source": [
    "def grade(score):\n",
    "    if score >= 90:\n",
    "        grade = 'A'\n",
    "    elif score >= 80:\n",
    "        grade = 'B'\n",
    "    elif score >= 70:\n",
    "        grade = 'C'\n",
    "    elif score >= 60:\n",
    "        grade = 'D'\n",
    "    else:\n",
    "        grade = 'F'\n",
    "    \n",
    "    return grade"
   ]
  },
  {
   "cell_type": "code",
   "execution_count": 29,
   "metadata": {},
   "outputs": [
    {
     "name": "stdout",
     "output_type": "stream",
     "text": [
      "D\n",
      "A\n",
      "F\n"
     ]
    }
   ],
   "source": [
    "print(grade(62.5))\n",
    "print(grade(90))\n",
    "print(grade(48))"
   ]
  },
  {
   "cell_type": "code",
   "execution_count": 30,
   "metadata": {},
   "outputs": [],
   "source": [
    "# simpler, using return to bail asap\n",
    "def grade(score):\n",
    "    if score >= 90:\n",
    "        return 'A'\n",
    "    if score >= 80:\n",
    "        return 'B'\n",
    "    if score >= 70:\n",
    "        return 'C'\n",
    "    if score >= 60:\n",
    "        return'D'\n",
    "    return 'F'"
   ]
  },
  {
   "cell_type": "code",
   "execution_count": 31,
   "metadata": {},
   "outputs": [
    {
     "name": "stdout",
     "output_type": "stream",
     "text": [
      "D\n",
      "A\n",
      "F\n"
     ]
    }
   ],
   "source": [
    "print(grade(62.5))\n",
    "print(grade(90))\n",
    "print(grade(48))"
   ]
  },
  {
   "cell_type": "code",
   "execution_count": 43,
   "metadata": {},
   "outputs": [],
   "source": [
    "def convert(temp, dir=\"ctof\"):\n",
    "    if dir == \"ctof\":\n",
    "        res = temp*9/5 + 32\n",
    "    else:\n",
    "        res = (temp-32)*5/9\n",
    "    return res"
   ]
  },
  {
   "cell_type": "code",
   "execution_count": 44,
   "metadata": {},
   "outputs": [
    {
     "name": "stdout",
     "output_type": "stream",
     "text": [
      "72.14\n",
      "6.111111111111111\n"
     ]
    }
   ],
   "source": [
    "print(convert(22.3))\n",
    "print(convert(43,\"ftoc\"))"
   ]
  },
  {
   "cell_type": "code",
   "execution_count": 45,
   "metadata": {},
   "outputs": [
    {
     "name": "stdout",
     "output_type": "stream",
     "text": [
      "6.11\n",
      "6.11\n"
     ]
    }
   ],
   "source": [
    "# a little formatting\n",
    "cval = convert(43,\"ftoc\")\n",
    "print('{:.2f}'.format(cval))\n",
    "print(f'{cval:.2f}')"
   ]
  },
  {
   "cell_type": "markdown",
   "metadata": {},
   "source": [
    "---"
   ]
  },
  {
   "cell_type": "markdown",
   "metadata": {},
   "source": [
    "#### Writing python programs\n",
    "\n",
    "You can launch a Terminal from inside Jupyter lab, and write and run\n",
    "your program in Terminal.<br>\n",
    "Please see video of lecture to know how\n",
    "to do this in a platform-independent way: same deal whether you are\n",
    "on a Mac or Windows or Linux machine, using the built-in editor in Notebook.<br>\n",
    "Also, in case you have both python 2 and python 3 installed, make sure you\n",
    "run python 3 - the video has some discussion on this as well.\n"
   ]
  },
  {
   "cell_type": "code",
   "execution_count": null,
   "metadata": {},
   "outputs": [],
   "source": []
  }
 ],
 "metadata": {
  "kernelspec": {
   "display_name": "Python 3",
   "language": "python",
   "name": "python3"
  },
  "language_info": {
   "codemirror_mode": {
    "name": "ipython",
    "version": 3
   },
   "file_extension": ".py",
   "mimetype": "text/x-python",
   "name": "python",
   "nbconvert_exporter": "python",
   "pygments_lexer": "ipython3",
   "version": "3.8.8"
  }
 },
 "nbformat": 4,
 "nbformat_minor": 4
}
